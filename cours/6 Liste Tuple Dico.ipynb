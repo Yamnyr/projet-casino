{
 "cells": [
  {
   "cell_type": "code",
   "execution_count": 2,
   "metadata": {},
   "outputs": [],
   "source": [
    "%load_ext autoreload\n",
    "%autoreload 2"
   ]
  },
  {
   "cell_type": "markdown",
   "metadata": {
    "toc": true
   },
   "source": [
    "<h1>Table of Contents<span class=\"tocSkip\"></span></h1>\n",
    "<div class=\"toc\"><ul class=\"toc-item\"><li><span><a href=\"#Cheatsheet\" data-toc-modified-id=\"Cheatsheet-1\" data-vivaldi-spatnav-clickable=\"1\"><span class=\"toc-item-num\">1&nbsp;&nbsp;</span>Cheatsheet</a></span></li><li><span><a href=\"#Projet-:\" data-toc-modified-id=\"Projet-:-2\" data-vivaldi-spatnav-clickable=\"1\"><span class=\"toc-item-num\">2&nbsp;&nbsp;</span>Projet :</a></span><ul class=\"toc-item\"><li><span><a href=\"#Correction-du-projet\" data-toc-modified-id=\"Correction-du-projet-2.1\" data-vivaldi-spatnav-clickable=\"1\"><span class=\"toc-item-num\">2.1&nbsp;&nbsp;</span>Correction du projet</a></span></li><li><span><a href=\"#Client-1\" data-toc-modified-id=\"Client-1-2.2\" data-vivaldi-spatnav-clickable=\"1\"><span class=\"toc-item-num\">2.2&nbsp;&nbsp;</span>Client 1</a></span><ul class=\"toc-item\"><li><span><a href=\"#Client-2-:-cities-rates\" data-toc-modified-id=\"Client-2-:-cities-rates-2.2.1\" data-vivaldi-spatnav-clickable=\"1\"><span class=\"toc-item-num\">2.2.1&nbsp;&nbsp;</span>Client 2 : cities rates</a></span></li></ul></li></ul></li><li><span><a href=\"#Réelle-question-d'un-entretien-technique--:\" data-toc-modified-id=\"Réelle-question-d'un-entretien-technique--:-3\" data-vivaldi-spatnav-clickable=\"1\"><span class=\"toc-item-num\">3&nbsp;&nbsp;</span>Réelle question d'un entretien technique  :</a></span></li><li><span><a href=\"#Kata---liste\" data-toc-modified-id=\"Kata---liste-4\" data-vivaldi-spatnav-clickable=\"1\"><span class=\"toc-item-num\">4&nbsp;&nbsp;</span>Kata - liste</a></span></li><li><span><a href=\"#Kata--dictionnaire\" data-toc-modified-id=\"Kata--dictionnaire-5\" data-vivaldi-spatnav-clickable=\"1\"><span class=\"toc-item-num\">5&nbsp;&nbsp;</span>Kata  dictionnaire</a></span></li><li><span><a href=\"#Listes-—-De-l'agilité-avec-les-listes-:-Un-tour-sur-stackoverflow\" data-toc-modified-id=\"Listes-—-De-l'agilité-avec-les-listes-:-Un-tour-sur-stackoverflow-6\" data-vivaldi-spatnav-clickable=\"1\"><span class=\"toc-item-num\">6&nbsp;&nbsp;</span>Listes — De l'agilité avec les listes : Un tour sur stackoverflow</a></span><ul class=\"toc-item\"><li><span><a href=\"#le-CRUD-des-listes-(sans-R)\" data-toc-modified-id=\"le-CRUD-des-listes-(sans-R)-6.1\" data-vivaldi-spatnav-clickable=\"1\"><span class=\"toc-item-num\">6.1&nbsp;&nbsp;</span>le CRUD des listes (sans R)</a></span><ul class=\"toc-item\"><li><span><a href=\"#Liste-—-Ajouter-UN-élément-?\" data-toc-modified-id=\"Liste-—-Ajouter-UN-élément-?-6.1.1\" data-vivaldi-spatnav-clickable=\"1\"><span class=\"toc-item-num\">6.1.1&nbsp;&nbsp;</span>Liste — Ajouter UN élément ?</a></span></li><li><span><a href=\"#Liste-—-Ajouter-plusieurs-éléments-?\" data-toc-modified-id=\"Liste-—-Ajouter-plusieurs-éléments-?-6.1.2\" data-vivaldi-spatnav-clickable=\"1\"><span class=\"toc-item-num\">6.1.2&nbsp;&nbsp;</span>Liste — Ajouter plusieurs éléments ?</a></span></li><li><span><a href=\"#Liste-—-Créer-une-liste-de-listes-?\" data-toc-modified-id=\"Liste-—-Créer-une-liste-de-listes-?-6.1.3\" data-vivaldi-spatnav-clickable=\"1\"><span class=\"toc-item-num\">6.1.3&nbsp;&nbsp;</span>Liste — Créer une liste de listes ?</a></span></li><li><span><a href=\"#Créer-une-comprehesion-list\" data-toc-modified-id=\"Créer-une-comprehesion-list-6.1.4\" data-vivaldi-spatnav-clickable=\"1\"><span class=\"toc-item-num\">6.1.4&nbsp;&nbsp;</span>Créer une <code>comprehesion list</code></a></span></li></ul></li><li><span><a href=\"#Liste-—-Indexing-and-slicing\" data-toc-modified-id=\"Liste-—-Indexing-and-slicing-6.2\" data-vivaldi-spatnav-clickable=\"1\"><span class=\"toc-item-num\">6.2&nbsp;&nbsp;</span>Liste — Indexing and slicing</a></span></li><li><span><a href=\"#Liste-—-Supprimer-un-ou-plusieurs-élèments\" data-toc-modified-id=\"Liste-—-Supprimer-un-ou-plusieurs-élèments-6.3\" data-vivaldi-spatnav-clickable=\"1\"><span class=\"toc-item-num\">6.3&nbsp;&nbsp;</span>Liste — Supprimer un ou plusieurs élèments</a></span></li><li><span><a href=\"#Liste-—-Inverser-une-liste\" data-toc-modified-id=\"Liste-—-Inverser-une-liste-6.4\" data-vivaldi-spatnav-clickable=\"1\"><span class=\"toc-item-num\">6.4&nbsp;&nbsp;</span>Liste — Inverser une liste</a></span></li><li><span><a href=\"#Astuces-et-erreurs-en-vrac-à-éviter\" data-toc-modified-id=\"Astuces-et-erreurs-en-vrac-à-éviter-6.5\" data-vivaldi-spatnav-clickable=\"1\"><span class=\"toc-item-num\">6.5&nbsp;&nbsp;</span>Astuces et erreurs en vrac à éviter</a></span></li></ul></li><li><span><a href=\"#Tuple\" data-toc-modified-id=\"Tuple-7\" data-vivaldi-spatnav-clickable=\"1\"><span class=\"toc-item-num\">7&nbsp;&nbsp;</span>Tuple</a></span></li><li><span><a href=\"#Dictionnaires-—-De-l'agilité-avec-les-dictionnaires-:-un-tour-sur-stackoverflow\" data-toc-modified-id=\"Dictionnaires-—-De-l'agilité-avec-les-dictionnaires-:-un-tour-sur-stackoverflow-8\" data-vivaldi-spatnav-clickable=\"1\"><span class=\"toc-item-num\">8&nbsp;&nbsp;</span>Dictionnaires — De l'agilité avec les dictionnaires : un tour sur stackoverflow</a></span><ul class=\"toc-item\"><li><span><a href=\"#Comment-vérifier-/-obtenir-la-valeur-d'une-clé-correspondante-?\" data-toc-modified-id=\"Comment-vérifier-/-obtenir-la-valeur-d'une-clé-correspondante-?-8.1\" data-vivaldi-spatnav-clickable=\"1\"><span class=\"toc-item-num\">8.1&nbsp;&nbsp;</span>Comment vérifier / obtenir la valeur d'une clé correspondante ?</a></span></li><li><span><a href=\"#Quelles-sont-les-types-de-clé-autorisé-dans-un-dico-?\" data-toc-modified-id=\"Quelles-sont-les-types-de-clé-autorisé-dans-un-dico-?-8.2\" data-vivaldi-spatnav-clickable=\"1\"><span class=\"toc-item-num\">8.2&nbsp;&nbsp;</span>Quelles sont les types de clé autorisé dans un dico ?</a></span><ul class=\"toc-item\"><li><span><a href=\"#Kata-:-comptage-des-lettres\" data-toc-modified-id=\"Kata-:-comptage-des-lettres-8.2.1\" data-vivaldi-spatnav-clickable=\"1\"><span class=\"toc-item-num\">8.2.1&nbsp;&nbsp;</span>Kata : comptage des lettres</a></span></li></ul></li></ul></li></ul></div>"
   ]
  },
  {
   "cell_type": "markdown",
   "metadata": {},
   "source": [
    "# Cheatsheet  "
   ]
  },
  {
   "cell_type": "markdown",
   "metadata": {},
   "source": [
    " ** **| ** **\n",
    "--- | ---  \n",
    "![](https://engmrk.com/wp-content/uploads/2018/01/Python-List-VS-Dict.png)| ![](https://encrypted-tbn0.gstatic.com/images?q=tbn:ANd9GcTwDipLEhDXC7ouRA10Lf7H2oKNWLHRkThFg1OoV51vkSdQwuT4Pg)  ![](https://encrypted-tbn0.gstatic.com/images?q=tbn:ANd9GcRoLuZITbqMiNKgY584pw4zwrq6OYrEZ1E-pM9zcl4GfAO2gkC8mw)  ![](https://encrypted-tbn0.gstatic.com/images?q=tbn:ANd9GcQDlShvrrKZzrqKBPL8v1SQqfOM19I-oaRKOOvY1__GqxILNyfDTA)  ![](https://encrypted-tbn0.gstatic.com/images?q=tbn:ANd9GcQuLUsCD0m2P5WpLNAaac4yvDqwPKQO9sV6w9CSRPkukPAw42ZZ)\n"
   ]
  },
  {
   "cell_type": "markdown",
   "metadata": {},
   "source": [
    "# Projet :"
   ]
  },
  {
   "cell_type": "markdown",
   "metadata": {},
   "source": [
    "**Le chef Data Scientist, pour répondre aux besoins de ses trois clients qui lui ont passé 2 fichiers, souhaite que vous \n",
    "travaillez sur ces fichiers et que vous répondiez aux questions suivantes :** \n",
    "\n",
    "`Client 1 :`  \n",
    "Le fichier contient les résultats de matchs de foot aux Etats-Unis de 2009 à 2013.\n",
    "\n",
    "***Apperçu du fichier `result_foot`:***   \n",
    "\n",
    "`Year`,`Week`,`Winner`,`Loser` => (N.B le fichier ne comporte pas de header)  \n",
    "2009,1,Pittsburgh Steelers,Tennessee Titans  \n",
    "2009,1,Minnesota Vikings,Cleveland Browns  \n",
    "2009,1,New York Giants,Washington Redskins  \n",
    "\n",
    "***Lecture du fichier :***  \n",
    "Chaque ligne du fichier correspond à un réultat d'un match. La 1è colonne est l'année. La 2è : la semaine (17 au total). La 3è : l'équipe gagnante. La 4è colonne est l'équipe perdante (Le dataset est réduit à ces équipes et on ne comptabilise pas les matchs nuls).\n",
    "\n",
    "Q : Lire le fichier à l'aide du `csv` module et le transformer en `list` 'result' ?  \n",
    "Q : Combien de fois New England Patriots a gagné ?  \n",
    "Q : Ecrire une fonction `result_win()` qui donne pour n'importe quel équipe le nombre de fois qu'elle a gagné ? Cette fonction prend comme paramètre le nom de l'équipe et retourne le nombre de fois qu'elle a gagné ? Augmenter cette fonction pour qu'elle donne les réultats détaillée des matchs gagnés.  \n",
    "Q : Créer une 2è fonc qui donne le nombre de fois qu'une équipe a gagné face à une autre équipe ? Augmenter cette fonction pour qu'elle donne les réultats détaillée des matchs gagnés.\n",
    "Tester pour \"Dallas Cowboys\" Vs. cowboys_wins ET \"Atlanta Falcons\" Vs. falcons_wins."
   ]
  },
  {
   "cell_type": "markdown",
   "metadata": {},
   "source": [
    "`Client 2 :`  \n",
    "\n",
    "Q : Combien de `cities` contient le fichier ?  \n",
    "Q : Quelle est le pays qui a le taux le plus elevé (resp. moins elevé) ?  \n",
    "Q : Fournir une sous liste `cities_greather_500` qui contient les cities dont le rates est suppérieur à 500 ?  \n",
    "Q : Quelle est le 74è pays et fournir le rate correspondant ?  \n",
    "Q : Fournir deux sous listes `cities_slice` qui contient le `Top 10` et le `Top -10` ?\n",
    "\n",
    "***Instructions :***\n",
    "\n",
    "**Votre manager :**   \n",
    "Q : sa 1è demande est de convertir le fichier en deux listes distinctes `cites` et `rates`. Aussi, en un dictionnaire : `{city : rate}`. N.B : ces différents objets sont plus pratiques à manipuler qu'un fichier (pour les besoins d'analyse). On verra d'autres façon comment lire un fichier, csv,...\n",
    "- `f_to_nested_list` = `[[\"Albuquerque\", 749], [\"Anaheim\", 371,]...]`  \n",
    "- `f_to_list_cities` = `[\"Albuquerque\", \"Anaheim\",...] ` \n",
    "- `f_to_list_rates` = `[749, 371,...]`\n",
    "- `f_to_dict` = `{city : rate}`\n",
    "\n",
    "**Le formateur (le professeur)  :**   \n",
    "Q : Changer, dans le fichier, plusieurs valeurs des `rates` en `float` en gardant certaines en `int` => (Albuquerque,749 => Albuquerque,749.00) et refaire la conersion du fichier vers les listes et le dict ?\n",
    "Q : Utiliser une `list comprehension` pour aboutir à `f_to_list_cities` et `f_to_list_rates` ?  \n",
    "Q : Utiliser une `dict comprehension` pour aboutir à `f_to_dict` ?  \n",
    "Q : La réflexion inverse :   \n",
    "Créer un fichier `.csv` à partir `f_to_list_cities` et `f_to_list_rates` (également à partir de `f_to_dict`). Le fichier doit contenir aussi une 1è colonne au fichier (une simple numérotation : 1, 2, 3,...) et une 2è colonne qui correspond au `rank` ? N.B : Penser à changer le séparateur du `|` en `,`.   \n",
    "Q : Réecrire le fichier dans un ordre croissant de rates ?"
   ]
  },
  {
   "cell_type": "markdown",
   "metadata": {
    "heading_collapsed": true
   },
   "source": [
    "## Correction du projet"
   ]
  },
  {
   "cell_type": "markdown",
   "metadata": {
    "heading_collapsed": true
   },
   "source": [
    "## Client 1"
   ]
  },
  {
   "cell_type": "code",
   "execution_count": null,
   "metadata": {
    "hidden": true
   },
   "outputs": [],
   "source": [
    "A vous de jouer..."
   ]
  },
  {
   "cell_type": "markdown",
   "metadata": {
    "hidden": true
   },
   "source": [
    "### Client 2 : cities rates "
   ]
  },
  {
   "cell_type": "code",
   "execution_count": null,
   "metadata": {
    "hidden": true
   },
   "outputs": [],
   "source": [
    "Q : Combien de cities contient le fichier ?\n",
    "R : 73\n",
    "Q : Quelle est le pays qui a le taux le plus elevé (resp. moins elevé) ?\n",
    "Q : Fournisser une sous liste 'cities_greater_500' qui contient les cities dont le rates est suppérieur à 500 ?\n",
    "R :  ... .\n",
    "Q : Quelle est le 74è pays et fournir le rate correspondant ?\n",
    "R : Error : out of range.\n",
    "Q : Fournir une sous liste 'cities_slice' qui contient les cities les deux derniers pays de la liste ?\n",
    "R :  ... .\n",
    "Q : Top 10 ? Top -10\n",
    "\n",
    "Q : Utiliser les list comprehension pour aboutir au même résultat ?"
   ]
  },
  {
   "cell_type": "code",
   "execution_count": 2,
   "metadata": {
    "hidden": true
   },
   "outputs": [
    {
     "name": "stdout",
     "output_type": "stream",
     "text": [
      "La méthode read() fournit f_content de type <class 'str'>\n",
      "En d'autres, tout le contenu du fichier est stocké dans un str\n",
      "- liste :  ['Albuquerque|749', 'Anaheim|371', 'Anchorage|828', 'Arlington|503', 'Atlanta|1379']\n",
      "- liste_nested [['Albuquerque', '749'], ['Anaheim', '371'], ['Anchorage', '828'], ['Arlington', '503'], ['Atlanta', '1379']]\n"
     ]
    },
    {
     "ename": "ValueError",
     "evalue": "invalid literal for int() with base 10: ''",
     "output_type": "error",
     "traceback": [
      "\u001b[1;31m---------------------------------------------------------------------------\u001b[0m",
      "\u001b[1;31mValueError\u001b[0m                                Traceback (most recent call last)",
      "\u001b[1;32m<ipython-input-2-9370f06e0007>\u001b[0m in \u001b[0;36m<module>\u001b[1;34m\u001b[0m\n\u001b[0;32m     17\u001b[0m \u001b[1;32mfor\u001b[0m \u001b[0mitem\u001b[0m \u001b[1;32min\u001b[0m \u001b[0mliste_nested\u001b[0m \u001b[1;33m:\u001b[0m\u001b[1;33m\u001b[0m\u001b[1;33m\u001b[0m\u001b[0m\n\u001b[0;32m     18\u001b[0m \u001b[1;31m#       print(item[1])\u001b[0m\u001b[1;33m\u001b[0m\u001b[1;33m\u001b[0m\u001b[1;33m\u001b[0m\u001b[0m\n\u001b[1;32m---> 19\u001b[1;33m         \u001b[0mrates\u001b[0m\u001b[1;33m.\u001b[0m\u001b[0mappend\u001b[0m\u001b[1;33m(\u001b[0m\u001b[0mint\u001b[0m\u001b[1;33m(\u001b[0m\u001b[0mitem\u001b[0m\u001b[1;33m[\u001b[0m\u001b[1;33m-\u001b[0m\u001b[1;36m1\u001b[0m\u001b[1;33m]\u001b[0m\u001b[1;33m)\u001b[0m\u001b[1;33m)\u001b[0m\u001b[1;33m\u001b[0m\u001b[1;33m\u001b[0m\u001b[0m\n\u001b[0m\u001b[0;32m     20\u001b[0m \u001b[1;31m#       cities.append(item[0])\u001b[0m\u001b[1;33m\u001b[0m\u001b[1;33m\u001b[0m\u001b[1;33m\u001b[0m\u001b[0m\n\u001b[0;32m     21\u001b[0m \u001b[0mprint\u001b[0m\u001b[1;33m(\u001b[0m\u001b[0mrates\u001b[0m\u001b[1;33m[\u001b[0m \u001b[1;33m:\u001b[0m \u001b[1;36m5\u001b[0m\u001b[1;33m]\u001b[0m\u001b[1;33m)\u001b[0m\u001b[1;33m\u001b[0m\u001b[1;33m\u001b[0m\u001b[0m\n",
      "\u001b[1;31mValueError\u001b[0m: invalid literal for int() with base 10: ''"
     ]
    }
   ],
   "source": [
    "with open(r'C:\\Users\\bejao\\OneDrive\\data\\cities_rates.txt',\"r\") as f :\n",
    "\tf_content = f.read()\n",
    "print(\"La méthode read() fournit f_content de type\", type(f_content))\n",
    "print(\"En d'autres, tout le contenu du fichier est stocké dans un str\")\n",
    "\n",
    "liste = f_content.split('\\n')\n",
    "print(\"- liste : \", liste[ : 5])\n",
    "\n",
    "liste_nested = []\n",
    "for item in liste :\n",
    "\tliste_split = item.split('|')\n",
    "\tliste_nested.append(liste_split)\n",
    "print(\"- liste_nested\", liste_nested[ : 5])\n",
    "\n",
    "cities = []\n",
    "rates = []\n",
    "for item in liste_nested :\n",
    "# \tprint(item[1])\n",
    "\trates.append(int(item[-1]))\n",
    "# \tcities.append(item[0])\n",
    "print(rates[ : 5])\n",
    "# print(cities[ : 5])\n",
    "\n",
    "# # Créer à partir d'une liste compacte (plus cool, une seule ligne de code)\n",
    "# rates_cpr = [int(rates[1]) for rates in liste_nested]\n",
    "# print(rates_cpr[ : 5])\n",
    "\n",
    "# Q : Cmnt transformer un dict to csv ?   \n",
    "# https://stackoverflow.com/questions/10373247/how-do-i-write-a-python-dictionary-to-a-csv-file"
   ]
  },
  {
   "cell_type": "markdown",
   "metadata": {
    "heading_collapsed": true
   },
   "source": [
    "# Réelle question d'un entretien technique  :\n",
    "\n",
    "**Retour sur `FizzBuzz` en utilisant les `comprehension lists` et les `dictionnaires`**.   \n",
    "\n",
    "**Enoncé :**  \n",
    "Créer une liste qui comprends les nombres de 1 à 21. Mais pour les multiples de 3, afficher `Fizz` au lieu du nombre et pour les multiples de 5 afficher `Buzz`. Pour les nombres multiples de 3 et 5, afficher `FizzBuzz`."
   ]
  },
  {
   "cell_type": "code",
   "execution_count": null,
   "metadata": {
    "collapsed": true,
    "hidden": true
   },
   "outputs": [],
   "source": [
    "[\n",
    "      'FizzBuzz' if i % 15 == 0 else 'Fizz'\n",
    "      if i % 3 == 0 else 'Buzz'\n",
    "      if i % 5 == 0 else i\n",
    "      for i in range(1, 21, 1)\n",
    "]"
   ]
  },
  {
   "cell_type": "markdown",
   "metadata": {
    "heading_collapsed": true
   },
   "source": [
    "# Kata - liste  "
   ]
  },
  {
   "cell_type": "code",
   "execution_count": 2,
   "metadata": {
    "collapsed": true,
    "hidden": true
   },
   "outputs": [
    {
     "data": {
      "text/plain": [
       "['eddard',\n",
       " 'catelyn',\n",
       " 'robb',\n",
       " 'sansa',\n",
       " 'arya',\n",
       " 'brandon',\n",
       " 'rickon',\n",
       " 'theon',\n",
       " 'rorbert',\n",
       " 'cersei',\n",
       " 'tywin',\n",
       " 'jaime',\n",
       " 'tyrion',\n",
       " 'shae',\n",
       " 'bronn',\n",
       " 'lancel',\n",
       " 'joffrey',\n",
       " 'sandor',\n",
       " 'varys',\n",
       " 'renly',\n",
       " 'a']"
      ]
     },
     "execution_count": 2,
     "metadata": {},
     "output_type": "execute_result"
    }
   ],
   "source": [
    "# Q : Réaliser un script qui retourne tous les mots de la `liste_mots` qui ont un 'y' en seconde position ?\n",
    "# N.B : Stocker le résultat dans une nouvelle liste.\n",
    "# Q : Retrouver le même résultat à l'aide d'une comprehension list ? \n",
    "# Q : Transformer le script en une fonction générique. Càd, qui permet de retourner les mots pour une lettre et/ou\n",
    "# une position du choix du User.\n",
    "# N.B : Penser au User 'naïf' : position 'logique humaine' qui démarre de 1 (et pas de 0 logique développeur Python).\n",
    "# 1Q peut-être à ajouter : Résoudre la même Q en écrivant au sein de la liste compacte une fonc lamdba  \n",
    "\n",
    "liste_mots = ['eddard', 'catelyn', 'robb', 'sansa', 'arya', 'brandon',\n",
    "        'rickon', 'theon', 'rorbert', 'cersei', 'tywin', 'jaime',\n",
    "        'tyrion', 'shae', 'bronn', 'lancel', 'joffrey', 'sandor',\n",
    "        'varys', 'renly', 'a' ]\n",
    "liste_mots\n",
    "\n",
    "# => ['tywin', 'tyrion']"
   ]
  },
  {
   "cell_type": "code",
   "execution_count": 3,
   "metadata": {
    "hidden": true
   },
   "outputs": [
    {
     "ename": "TabError",
     "evalue": "inconsistent use of tabs and spaces in indentation (<ipython-input-3-114506c95776>, line 9)",
     "output_type": "error",
     "traceback": [
      "\u001b[1;36m  File \u001b[1;32m\"<ipython-input-3-114506c95776>\"\u001b[1;36m, line \u001b[1;32m9\u001b[0m\n\u001b[1;33m    return res\u001b[0m\n\u001b[1;37m              ^\u001b[0m\n\u001b[1;31mTabError\u001b[0m\u001b[1;31m:\u001b[0m inconsistent use of tabs and spaces in indentation\n"
     ]
    }
   ],
   "source": [
    "# 1è façon : code en dur\n",
    "# Inconvénient : je ne peux pas changer ni la position ni la lettre.\n",
    "# Par ex : tu cherche les mots qui commence par 'a' (position 0).\n",
    "\n",
    "res = []\n",
    "for mot in liste_mots :\n",
    "    if len(mot) > 1 and mot[1] == 'y' :\n",
    "    \tres.append(mot)\n",
    "\treturn res"
   ]
  },
  {
   "cell_type": "code",
   "execution_count": null,
   "metadata": {
    "hidden": true
   },
   "outputs": [],
   "source": [
    "# 2è façon : Position de 0 à len(mot) \n",
    "# Ce n'est pas bon parce que \n",
    "\n",
    "def mots_lettre_position (liste, lettre, position) :\n",
    "    res = [ ]\n",
    "    for mot in liste_mots :\n",
    "        if position < len(mot) and mot[position] == lettre :\n",
    "            res.append (mot)\n",
    "    return res\n",
    "\n",
    "r = mots_lettre_position (liste_mots, 'y', 1)\n",
    "print (r)"
   ]
  },
  {
   "cell_type": "code",
   "execution_count": null,
   "metadata": {
    "hidden": true
   },
   "outputs": [],
   "source": [
    "# Dernière façon : la position des lettres démarre de 1 (Pr un humain)\n",
    "def mots_lettre_position (liste, lettre, position) :\n",
    "    res = [ ]\n",
    "    for mot in liste_mots :\n",
    "        if position <= len(mot) and mot[position-1] == lettre :\n",
    "            res.append (mot)\n",
    "    return res\n",
    "r = mots_lettre_position (liste_mots, 'r', 6)\n",
    "print (r)"
   ]
  },
  {
   "cell_type": "markdown",
   "metadata": {
    "heading_collapsed": true
   },
   "source": [
    "# Kata  dictionnaire\n",
    "\n",
    "L’énoncé suggère d’utiliser comme clé de dictionnaire le couple (position, lettre) et la fonction doit retourne la liste des mots qui ont tous la même lettre à la même position. Le dictionnaire dictionnaire_bien_choisi de l’énoncé doit avoir pour clés des couples (position, lettre) et pour valeurs des listes de prénoms.\n"
   ]
  },
  {
   "cell_type": "code",
   "execution_count": null,
   "metadata": {
    "hidden": true
   },
   "outputs": [],
   "source": [
    "def dictionnaire_choisi (liste) :\n",
    "    d = {}\n",
    "    for mot in liste :\n",
    "        for key, value in enumerate(mot) :\n",
    "            d[key, value] = d.get((key, value), []) + [mot]\n",
    "    return d\n",
    "\n",
    "def mots_lettre_position (d, lettre, position) :\n",
    "    return d.get ( (position, lettre), [] )\n",
    "\n",
    "d = dictionnaire_choisi(liste_mots)\n",
    "r = mots_lettre_position ( d, 'y', 1)\n",
    "print (\"résultat=\", r)\n",
    "print (\"dictionnaire=\", d)"
   ]
  },
  {
   "cell_type": "markdown",
   "metadata": {},
   "source": [
    "# Listes — De l'agilité avec les listes : Un tour sur stackoverflow "
   ]
  },
  {
   "cell_type": "markdown",
   "metadata": {},
   "source": [
    "## le CRUD des listes (sans R)\n",
    "**Create, update, delete**  \n",
    "https://docs.python.org/3.6/tutorial/datastructures.html"
   ]
  },
  {
   "cell_type": "markdown",
   "metadata": {},
   "source": [
    "### Liste — Ajouter UN élément ? \n",
    "**2 façons de le faire (c à vs de choisir) et des erreurs à éviter !**"
   ]
  },
  {
   "cell_type": "code",
   "execution_count": null,
   "metadata": {},
   "outputs": [],
   "source": [
    "# Créer une liste vide ? 2 façons de le faire (dont `[]` écriture pythonique).\n",
    "list_empty = [ ] \t# list_empty = list()\n",
    "# Remarquez l'espace laissé entre les deux crochets (écriture pythonique)\n",
    "# list_empty = []  # fonctionne aussi\n",
    "\n",
    "# Ajouter UN élément ? \n",
    "# 2 façons de le faire (c à vs de choisir) et des erreurs à éviter !\n",
    "\n",
    "# 1è façon (la plus simple) : `+=` operator (Python classique).\n",
    "list_empty += [6]\n",
    "list_empty\n",
    "\n",
    "# 2è façon : méthode `append`.\n",
    "list_empty.append('ok')\n",
    "list_empty\n",
    "# [6, 'ok']\n",
    "\n",
    "# 1è concl : une liste est un foure-tout : \n",
    "# Il est possible de mélanger dans une liste des objets de plusieurs types.\n",
    "\n",
    "# Att : On provoque une 1è erreur déjà rencontrée auprès des apprenants !\n",
    "list_empty.append('new', 'item')\n",
    "# R : Pas possible avec 2 objets (un seul objet à la fois sera ajouté à la fin de la liste).\n",
    "\n",
    "# Une 2è erreur\n",
    "list = list_empty.append('new item')\n",
    "print(list) # None\n",
    "# R : Vs ne pouvez pas faire d'affectation avec la méthode `append` (mais une MAJ de la liste)."
   ]
  },
  {
   "cell_type": "markdown",
   "metadata": {},
   "source": [
    "### Liste — Ajouter plusieurs éléments ? \n",
    "**2 façons de le faire (c à vs de choisir) et des erreurs à éviter !**"
   ]
  },
  {
   "cell_type": "markdown",
   "metadata": {},
   "source": []
  },
  {
   "cell_type": "code",
   "execution_count": null,
   "metadata": {},
   "outputs": [],
   "source": [
    "list_alpha = ['a','d','c']\n",
    "list_num = [1, 2, 3]\n",
    "\n",
    "# Cmnt créer une nouvelle liste à partir de 2 listes existantes ?\n",
    "# list_alpha_num = ['a','d','c', 1, 2, 3]\n",
    "\n",
    "# Ou encore, Cmnt faire un merge de listes ?\n",
    "# Voire ajouter plusieurs élements à une liste existante ? \n",
    "\n",
    "# 2 façons de le faire (c à vs de choisir) et une erreur à éviter !\n",
    "\n",
    "# 1è façon (la plus simple) : `+` (faire la somme) \n",
    "\n",
    "list_alpha_num = list_alpha + list_num\n",
    "list_alpha_num\n",
    "\n",
    "# 2è façon : méthode `extend`\n",
    "\n",
    "list_alpha.extend(list_num)\n",
    "list_alpha\n",
    "\n",
    "# Att : On provoque une erreur déjà rencontrée auprès des apprenants !\n",
    "\n",
    "list_alpha_num = list_alpha.extend(list_num)\n",
    "print(list_alpha) # None\n",
    "# R : Vs ne pouvez pas faire d'affectation avec la méthode `extend` (MAJ de la liste actuelle) !\n"
   ]
  },
  {
   "cell_type": "markdown",
   "metadata": {},
   "source": [
    "### Liste — Créer une liste de listes ? \n",
    "**Une façon de le faire et des erreurs à éviter !**  \n",
    "**Q : What is the difference between the list methods `append` and `extend` ?**  \n",
    "https://stackoverflow.com/questions/252703/difference-between-append-vs-extend-list-methods-in-python  \n",
    "Bien lire la réponse du développeur `stillanoob` qui compare la perfermonce des deux méthodes `append` et `extend`.   \n",
    "Autre ressource en français :  \n",
    "https://www.journaldunet.fr/web-tech/developpement/1202865-quelle-est-la-difference-entre-append-et-extend-en-python/"
   ]
  },
  {
   "cell_type": "code",
   "execution_count": null,
   "metadata": {},
   "outputs": [],
   "source": [
    "list_alpha = ['a','d','c']\n",
    "list_num = [1, 2, 3]\n",
    "\n",
    "# Cmnt obtenir une liste de listes ? \n",
    "# list_of_lists = [['a', 'd', 'c'], [1, 2, 3]]\n",
    "\n",
    "# 1 façon : simple et écriture Pythonique (à la fois) ! \n",
    "\n",
    "# list_of_lists = [list_alpha, list_num]\n",
    "# list_of_lists\n",
    "\n",
    "# Att : On provoque une erreur déjà rencontrée auprès des apprenants !\n",
    "\n",
    "# list_alpha.append(list_num)\n",
    "# list_alpha\n",
    "['a', 'd', 'c', [1, 2, 3]]\n",
    "# Vs créez une liste dans une liste (ce n'est pas le résultat souhaité)"
   ]
  },
  {
   "cell_type": "markdown",
   "metadata": {},
   "source": [
    "### Zip et le déballage d'arguments"
   ]
  },
  {
   "cell_type": "code",
   "execution_count": 5,
   "metadata": {},
   "outputs": [
    {
     "name": "stdout",
     "output_type": "stream",
     "text": [
      "('a', 'b', 'c') (1, 2, 3)\n"
     ]
    }
   ],
   "source": [
    "# zip transforme plusieurs listes en une liste de tuples des éléments corresp :  \n",
    "\n",
    "liste1 = ['a', 'b', 'c']\n",
    "liste2 = [1, 2, 3]\n",
    "liste1_2 = zip(liste1, liste2) #  vaut [('a', 1), ('b', 2), ('c', 3)]\n",
    "\n",
    "# N.B Si les listes sont de longueurs différents, zip s'arrête à la fin de la plus courte.\n",
    "\n",
    "# '*' effectue le déballage d'arguments\n",
    "\n",
    "letters, numbers = zip(*liste1_2)\n",
    "print(letters, numbers)"
   ]
  },
  {
   "cell_type": "markdown",
   "metadata": {},
   "source": [
    "### Créer une `comprehesion list`   \n",
    "https://stackoverflow.com/questions/34835951/what-does-list-comprehension-mean-how-does-it-work-and-how-can-i-use-it"
   ]
  },
  {
   "cell_type": "code",
   "execution_count": null,
   "metadata": {},
   "outputs": [],
   "source": [
    "\n",
    "# Q : Ecrire un code pr créer cette liste (d'une façon compacte) ?\n",
    "\n",
    "l_impair = [1, 3, 5, 7, 9, 11, 13, 15, 17, 19]\n",
    "# Cette autre liste : \n",
    "l_pair = [0, 2, 4, 6, 8, 10, 12, 14, 16, 18]\n",
    "# cette nouvelle liste\n",
    "l_triple = [3, 6, 9, 12, 15, 18]\n",
    "# Q : qu'affiche l_compacte2\n",
    "l_compact = [ i*2 for i in range(0,10) if i%2==0 ]\n",
    "\n",
    "# Q : Cmnt réccupérer les items dont l'index est pair ?\n",
    "lst = [\"John\",\"Tommen\",\"Arya\",\"Kingslayer\"]\n",
    "# N.B : Passer par la méthode `enumerate` avec une 2018-11-05 21:10:34 boucle (et sans une boucle).\n",
    "\n",
    "# Q : Supp les espaces qui se trouvent dans les items (à l'aide d'1 comprehension list)\n",
    "freshfruit = ['  banana', '  loganberry ', 'passion fruit  ']\n",
    "\n",
    "\n",
    "# Plutôt que d'écrire :\n",
    "l_impair = [ ]\n",
    "for i in range (0, 20, 1) :\n",
    "    l_impair.append(i*2+1)\n",
    "l_impair\n",
    "# Un des Pb de la boucle en comparaison avec comprehension list est qu'avec la boucle le 'i' reste en mémoire.\n",
    "\n",
    "# On écrit : \n",
    "l_impair_compacte = [ i*2+1 for i in range(0, 20, 1) ]\n",
    "\n",
    "l_pair = [ i*2 for i in range(0,10) ]\n",
    "\n",
    "l_triple = [3, 6, 9, 12, 15, 18]\n",
    "\n",
    "\n",
    "# Avec une boucle \n",
    "lst = [\"John\",\"Tommen\",\"Arya\",\"Kingslayer\"]\n",
    "lst_new = []\n",
    "for i, v in enumerate(lst) :\n",
    "\tif i % 2 !=  0 :\n",
    "\t\tlst_new.append(v)\n",
    "print(lst_new)\n",
    "\n",
    "# Sans une boucle : \n",
    "# lst = [name for index, name in enumerate(lst) if index % 2 != 0]"
   ]
  },
  {
   "cell_type": "markdown",
   "metadata": {
    "heading_collapsed": true
   },
   "source": [
    "## Liste — Indexing and slicing "
   ]
  },
  {
   "cell_type": "code",
   "execution_count": null,
   "metadata": {
    "hidden": true
   },
   "outputs": [],
   "source": [
    "# Q : Accès au 1è item d'une liste (resp. le dernier) ?\n",
    "# S : Le premier item commence toujours par l'index 0, le deuxième index 1, etc.\n",
    "\n",
    "liste = ['first', 'second', \n",
    "         'a', 'b', 'c', 1, 2, 3,\n",
    "         'before_last', 'last']\n",
    "\n",
    "liste[0] # 1è val : 'first'\n",
    "liste[-1] # dernière val : 'last'\n",
    "liste[-2] # dernière val : 'before_last'\n",
    "\n",
    "# Je profite pour introduire la méthode enumerate\n",
    "\n",
    "for item in enumerate(liste) : \n",
    "    print(item)\n",
    "    # (0, 'first'), (1, 'second'),...  \n",
    "    \n",
    "# La méthode 'manuelle' suivante est non pythonique \n",
    "# (malgré le fait qu'elle produit le même résultat) ! \n",
    "i = 0  \n",
    "for i in range(len(liste)) : \n",
    "    print(i)\n",
    "    i += 1 \n",
    "\n",
    "# Je réccupère à partir de l'index n°2    \n",
    "for idx, item in enumerate(liste, 2) : \n",
    "    print(idx, item)\n",
    "    # (2, 'a'), (3, 'b'),... \n",
    "    \n",
    "# Je souhaite réccupérer seulement les index d'une liste\n",
    "\n",
    "for i in range(len(liste)) : do_sometings(i) #  non pythonique\n",
    "\n",
    "for i, _ in enumerate(liste) :  #  pythonique\n",
    "    print(i)\n",
    "\n",
    "# Je profite aussi pr introduire la méthode insert.\n",
    "liste.insert(-1, 'the latest')\n",
    "\n",
    "# Q : Pourqoui -1 pour le dernier item ?\n",
    "liste[len(liste) - 1]  # len(liste) : la longueur.\n",
    "    \n",
    "# Provoquons un msg d'erreur ?\n",
    "liste[10] # Out of Range.\n",
    "\n",
    "\n",
    "# Accés à une séquence ordonnée d'items ? \n",
    "###########################################\n",
    "\n",
    "# Q : Extraire du 3è au 8è items ? => 'a', 'b', 'c', 1, 2, 3\n",
    "liste[2 : 8] # Att : liste[n:m] ; m est exclu\n",
    "\n",
    "# A l'occasion si je souhaite changer les valeurs, je procède ainsi :\n",
    "liste[2 : 8] = ['new_item1',... , 'new_item6']\n",
    "\n",
    "# Q : Extraire les deux 1è items ? \n",
    "liste[ : 2]\n",
    "\n",
    "# Extraire les 2 derniers items ? \n",
    "liste[-2 : ]\n",
    "\n",
    "# Q : Extraire tout sauf les 2 derniers items ? \n",
    "liste[ : -2]\n",
    "\n",
    "\n",
    "# Q : Extraire tout sauf les deux 1è et les 2 derniers items ?\n",
    "liste[2 : -2]\n",
    "# Je retrouve la réponse à Extraire du 3è au 8è items.\n",
    "\n",
    "\n",
    "# Accés à une séquence non ordonnée d'items\n",
    "###########################################\n",
    "\n",
    "liste = list(range(0, 101, 1))\n",
    "\n",
    "# Q : Extraire la 1è, la 4è et les 3 dernières vals ?\n",
    "\n",
    "\n",
    "# Q : Extraire tout sauf la 1è, la 4è et les 3dernières vals ?\n",
    "\n",
    "# Q : Extraire la 1è et les 3dernières vals mais sans la 4è \n",
    "# (Esk on provoque 1erreur ?) ?  \n"
   ]
  },
  {
   "cell_type": "markdown",
   "metadata": {
    "heading_collapsed": true
   },
   "source": [
    "## Liste — Supprimer un ou plusieurs élèments   \n",
    "Q : What's the difference between pop, del and remove on lists ?  \n",
    "https://stackoverflow.com/questions/11520492/difference-between-del-remove-and-pop-on-lists  \n",
    "https://www.quora.com/In-Python-whats-the-difference-between-pop-del-and-remove-on-lists  \n",
    "https://www.quora.com/How-do-I-remove-an-item-from-a-python-list  \n",
    "Autre ressource en français :   \n",
    "https://www.journaldunet.fr/web-tech/developpement/1202911-comment-retirer-un-element-d-une-liste-grace-a-l-index-en-python/"
   ]
  },
  {
   "cell_type": "code",
   "execution_count": null,
   "metadata": {
    "hidden": true
   },
   "outputs": [],
   "source": [
    "list_alpha = ['a', 'b', 'a', 'c']\n",
    "\n",
    "# Q : Cmnt supp un ou plusieurs item.s (suivant l'index)\n",
    "########################################################\n",
    "\n",
    "# 2 méthodes pr supp suivants l'index (mais qui ne marche pas de la même façon).\n",
    "\n",
    "del list_alpha[1] # Supp l'élèment dont l'index est 1\n",
    "liste_alpha\n",
    "\n",
    "list_alpha.pop(1)  # Supp l'élèment dont l'index est 1.\n",
    "list_alpha.pop()  # Sans argument, supp le dernier item\n",
    "liste_alpha\n",
    "\n",
    "# Diff entre del et pop : \n",
    "# Avec `del`, on peut supp un slice de la liste et SURTOUT `del` est une méthode générique. \n",
    "# On peut supp tt types de vars.\n",
    "del list_alpha[0 : 3]\n",
    "# Avec `pop`, on ne peut supp qu'un élement à la fois (et non un slice). \n",
    "# Le seul avantage `pop` est que ça affiche l'élement qui vient d'être supp.\n",
    "# Cl 'perso' : préférer `del` (`del` et `pop` ont le même coût de calcul).\n",
    "\n",
    "# Q : Cmnt supp un item sachant sa valeur\n",
    "#########################################\n",
    "list_alpha.remove('a')\n",
    "# Pb : on supp le 1è item rencontré ds la liste (et ça s'arrête là).\n",
    "\n",
    "\n",
    "# Q : Cmnt 'corriger' le comportement de remove() ?\n",
    "# i.e Supp tout les items qui porte la même valeur.\n",
    "# N.B : Il est déconseillé de passer par une boucle\n",
    "####################################################\n",
    "\n",
    "[i for i in list_alpha if i != 'a']\n",
    "# [x for x in my_list if x != 'element to remove']\n"
   ]
  },
  {
   "cell_type": "markdown",
   "metadata": {
    "heading_collapsed": true
   },
   "source": [
    "## Liste — Inverser une liste\n",
    "Deux méthodes, une pythonique et des erreurs à éviter  \n",
    "https://stackoverflow.com/questions/3940128/how-can-i-reverse-a-list-in-python"
   ]
  },
  {
   "cell_type": "code",
   "execution_count": null,
   "metadata": {
    "hidden": true
   },
   "outputs": [],
   "source": [
    "list_alpha_num = ['a', 'b', 'c', 1, 2, 3]\n",
    "# => [3, 2, 1, 'c', 'b', 'a']\n",
    "\n",
    "\n",
    "# Deux méthodes dont une pythonique \n",
    "\n",
    "list_alpha_num[::-1]\n",
    "\n",
    "# Q : D'où vient `::-1` ?\n",
    "# R : La réponse provient du slicing [`start`, `stop`, `step`]\n",
    "# Par ex, suivant cette syntaxe si on veux lister les élèments d'une liste ?\n",
    "list_alpha_num[:]  # écriture pythonique (au lieu de taper print(list_alpha_num))\n",
    "# Autre Ex : lister les items dont l'index est pair à partir de la 4è jusqu'à la 50è position (inclus) ?\n",
    "list_alpha_num[4: 51 : 2]  # Rappel : `stop` 51 n'est pas inclus.\n",
    "# Cl : pr inverser, on rapjoute `:-1` comme step.\n",
    "# Ds la même logique, si on veux vider une liste (sans la supp !)\n",
    "liste[:] = []\n",
    "\n",
    "# 2è façon : la méthode `reverse`()\n",
    "# list_num_alpha = list_alpha_num.reverse()\n",
    "# list_num_alpha\n",
    "# Att, vs écrasez la liste (i.e vs ne pouvez pas faire d'affectation).\n",
    "# Q : Conclusion tirée à partir du lien Stackoverflow fourni ? "
   ]
  },
  {
   "cell_type": "markdown",
   "metadata": {},
   "source": [
    "## Astuces et erreurs en vrac à éviter "
   ]
  },
  {
   "cell_type": "code",
   "execution_count": 1,
   "metadata": {},
   "outputs": [
    {
     "ename": "SyntaxError",
     "evalue": "invalid syntax (<ipython-input-1-6a90a6285802>, line 43)",
     "output_type": "error",
     "traceback": [
      "\u001b[1;36m  File \u001b[1;32m\"<ipython-input-1-6a90a6285802>\"\u001b[1;36m, line \u001b[1;32m43\u001b[0m\n\u001b[1;33m    x   ???\u001b[0m\n\u001b[1;37m        ^\u001b[0m\n\u001b[1;31mSyntaxError\u001b[0m\u001b[1;31m:\u001b[0m invalid syntax\n"
     ]
    }
   ],
   "source": [
    "# Chercher la valeur max (l'item le plus long)\n",
    "\n",
    "liste = [1, 10, 100, 250, 500]\n",
    "max(liste)\n",
    "\n",
    "liste = ['a', 'aa', 'aaa', 'aaaa']\n",
    "max(liste)\n",
    "\n",
    "# Evidemment, ça ne marche pas si la liste contient un mélange de `int` et de `string`\n",
    "\n",
    "# Q : Cmnt tu sais la longueur d'1 liste et compter le nbre d'occurrence de ces elements ?\n",
    "\n",
    "fruits = ['orange', 'apple', 'pear', 'banana', 'kiwi', 'apple', 'banana']\n",
    "len(fruits)\n",
    "fruits.count(\"banana\")\n",
    "3\n",
    "'z' in fruits\n",
    "False\n",
    "'banana' in fruits\n",
    "True\n",
    "\n",
    "# Q : Cmnt tu trouve l'index d'une valeur ?\n",
    "fruits.index('banana')\n",
    "fruits.index('banana', 4)\n",
    "\n",
    "x = [1, 2]\n",
    "x*5\n",
    "[1, 2, 1, 2, 1, 2, 1, 2, 1, 2]\n",
    "# Ce qui peut être utile pour initialiser une liste\n",
    "[0] * 5\n",
    "[0, 0, 0, 0, 0]\n",
    "[[]] * 5\n",
    "[[], [], [], [], []]\n",
    "\n",
    "\n",
    "# Q : Cmnt copier une liste ?\n",
    "\n",
    "# Beaucoup de débutants font l'erreur de copier une liste de cette manière.\n",
    "x = [1,2,3]\n",
    "y = x\n",
    "# Si on change la valeur du 1è item de la listey  (val = 4), vérifier que ce passe-t-il au niveau de la liste `x` ? \n",
    "y[0] = 4\n",
    "# x   ???\n",
    "\n",
    "x = [1,2,3]\n",
    "y = x[:]\n",
    "y[0] = 9\n",
    "\n",
    "import copy\n",
    "x = [[1,2], 2]\n",
    "y = copy.deepcopy(x)\n",
    "y[1] = [1,2,3]\n",
    "x\n",
    "[[1, 2], 2]\n",
    "y\n",
    "[[1, 2], [1, 2, 3]]\n",
    "\n",
    "# Q : How to check if one of the following items is in a list?\n",
    "a = [1,2,3,4]\n",
    "b = [2,7]\n",
    "# https://stackoverflow.com/questions/740287/how-to-check-if-one-of-the-following-items-is-in-a-list"
   ]
  },
  {
   "cell_type": "markdown",
   "metadata": {},
   "source": [
    "# Tuple    "
   ]
  },
  {
   "cell_type": "code",
   "execution_count": null,
   "metadata": {},
   "outputs": [],
   "source": [
    "tuple_empty = ()\n",
    "tuple_alpha = ('a', 'b', 'c')\n",
    "tuple_alpha = 'a', 'b', 'c'\n",
    "tuple_num = (1, 2, 3)\n",
    "tuple_one_value = ('ko') \t# Faux\n",
    "tuple_other_value = ('ok',) # correct\n",
    "tuple_alpha_num = tuple_alpha + tuple_num\n",
    "# Q : Cmnt tu affiche une valeur d'un tuple ?\n",
    "tuple_alpha[0]\n",
    "tuple_alpha[4] # out of range ! \n",
    "# Et si on essaie de changer la valeur d'un item d'un tuple, Python nous insulte copieusement\n",
    "tuple_num[0] = 1\n",
    "# Q : Mais alors à quoi sert un tuple ? \n",
    "v1, v2 = 11, 22\n",
    "(v1, v2) = (11, 22)\n",
    "# R1 : A l'affectation multiple ! \n",
    "# R2 : Et surtout ds les foncs (parcq on n'a pas envie de voir les résultat return de ces foncs changer).\n",
    "\n",
    "def donne_moi_ton_nom():\n",
    "\treturn ('olivier', 'engel')\n",
    "\n",
    "donne_moi_ton_nom()"
   ]
  },
  {
   "cell_type": "markdown",
   "metadata": {},
   "source": [
    "# Dictionnaires — De l'agilité avec les dictionnaires : un tour sur stackoverflow"
   ]
  },
  {
   "cell_type": "code",
   "execution_count": null,
   "metadata": {},
   "outputs": [],
   "source": [
    "# Un dico en python est une sorte de liste mais au lieu d'utiliser des index, on utilise des clés.\n",
    "\n",
    "\n",
    "dico_empty = {}\n",
    "dico_empty['nom'] = 'data'\n",
    "dico_empty['prenom'] = 'artisan'\n",
    "dico_empty[42] = 'num de réf'\n",
    "dico_empty\n",
    "\n",
    "# Q : Cmnt on ajoute plusieurs clés à la fois ?\n",
    "\n",
    "\n",
    "# Q : Cmnt tu récupére une valeur dans un dictionnaire ?\n",
    "dico_empty.get('prenom')\n",
    "# 'artisan'\n",
    "\n",
    "# Q : Cmnt tu supprime une clé de dictionnaire ?\n",
    "del dico_empty[42]\n",
    "dico_empty\n",
    "\n",
    "# Q : Cmnt tu récupére les clés à l'aide d'une boucle ?\n",
    "for key in dico_empty.keys():\n",
    "\tprint (key)\n",
    "\n",
    "# Q : Cmnt tu récupére les valeurs par une boucle ?\n",
    "for value in dico_empty.values():\n",
    "\tprint (value)\n",
    "\n",
    "# Q : Cmnt tu récupére les clés et les valeurs par une boucle ?\n",
    "for key, value in dico_empty.items():\n",
    "\tprint (key, value)\n"
   ]
  },
  {
   "cell_type": "markdown",
   "metadata": {},
   "source": [
    "## Comment vérifier / obtenir la valeur d'une clé correspondante ?   "
   ]
  },
  {
   "cell_type": "code",
   "execution_count": null,
   "metadata": {},
   "outputs": [],
   "source": [
    "# Q : Cmnt vérifier qu'1 clé existe ds 1dictionnaire ?\n",
    "\n",
    "https://www.journaldunet.fr/web-tech/developpement/1202879-python-comment-verifier-si-une-cle-key-existe-dans-un-dictionnaire/\n",
    "# S : Ce lien rajoute la rép à cette dernière Q en utilisant la méthode avec les defaultdict() !\n",
    "\n",
    "'adresse' in dico_empty.keys()\n",
    "False\n",
    "\n",
    "dico_empty.get(\"adresse\", \"Adresse inconnue\")\n",
    "# Rq : si la clé est introuvable, vous pouvez donner une valeur à retourner par défaut !"
   ]
  },
  {
   "cell_type": "markdown",
   "metadata": {},
   "source": [
    "## Quelles sont les types de clé autorisé dans un dico ?   "
   ]
  },
  {
   "cell_type": "code",
   "execution_count": null,
   "metadata": {},
   "outputs": [],
   "source": [
    "# R.F : tous sauf une liste ! \n",
    "\n",
    "https://stackoverflow.com/questions/44814719/can-both-the-values-and-keys-of-a-dictionary-be-integers\n",
    "\n",
    "\n",
    "# Q : Esk tu peux mettre 1liste comme 1clé ?\n",
    "liste = ['key1','key1 detail']\n",
    "dico[liste] = 'value'\n",
    "# S : Ce n'est pas possible !"
   ]
  },
  {
   "cell_type": "markdown",
   "metadata": {},
   "source": [
    "### Kata : comptage des lettres\n",
    "  "
   ]
  },
  {
   "cell_type": "code",
   "execution_count": null,
   "metadata": {},
   "outputs": [],
   "source": [
    "texte = \"Exo : je souhaite compter l'occurence des lettres dans cette phrase ?!\"\n",
    "# Rq : On doit supp les espaces, la ponctuation, l'apostrophe !\n",
    "\n",
    "# R : 1è façon plus rapide\n",
    "dico = {}\n",
    "for lettre in texte :\n",
    "\tdico[lettre] = dico.get(lettre, 0) + 1\n",
    "    \n",
    "\n",
    "# 2è façon\n",
    "def lettre_occurence():\n",
    "  dico = {}\n",
    "  for lettre in texte :\n",
    "    if lettre not in dico and lettre.isalnum():\n",
    "      dico[lettre] = 1\n",
    "    elif lettre in dico and lettre.isalpha():\n",
    "      dico[lettre] += 1\n",
    "  print(dico)\n",
    "\n",
    "lettre_occurence()\n",
    "\n",
    "\n",
    "\n",
    "# S : 2è façon en important le module collections !\n",
    "from collections import Counter\n",
    "texte_replace = texte.replace(' ','')\n",
    "dico = Counter(texte_replace)\n",
    "print(dico)\n"
   ]
  },
  {
   "cell_type": "code",
   "execution_count": null,
   "metadata": {},
   "outputs": [],
   "source": [
    "Q : Cmnt faire 1merge de 2dico ?\n",
    "x = {'a': 1, 'b': 2}\n",
    "y = {'b': 3, 'c': 4}\n",
    "z = {**x, **y}\n",
    "print(z)\n",
    "\n",
    "# https://dbader.org/python-tricks"
   ]
  }
 ],
 "metadata": {
  "hide_input": false,
  "kernelspec": {
   "display_name": "Python 3",
   "language": "python",
   "name": "python3"
  },
  "language_info": {
   "codemirror_mode": {
    "name": "ipython",
    "version": 3
   },
   "file_extension": ".py",
   "mimetype": "text/x-python",
   "name": "python",
   "nbconvert_exporter": "python",
   "pygments_lexer": "ipython3",
   "version": "3.7.7"
  },
  "nbTranslate": {
   "displayLangs": [
    "fr"
   ],
   "hotkey": "alt-t",
   "langInMainMenu": true,
   "sourceLang": "en",
   "targetLang": "fr",
   "useGoogleTranslate": true
  },
  "toc": {
   "nav_menu": {
    "height": "554px",
    "width": "275px"
   },
   "number_sections": true,
   "sideBar": true,
   "skip_h1_title": false,
   "title_cell": "Table of Contents",
   "title_sidebar": "Contents",
   "toc_cell": true,
   "toc_position": {
    "height": "674px",
    "left": "401px",
    "top": "112px",
    "width": "365.785px"
   },
   "toc_section_display": true,
   "toc_window_display": false
  }
 },
 "nbformat": 4,
 "nbformat_minor": 2
}
