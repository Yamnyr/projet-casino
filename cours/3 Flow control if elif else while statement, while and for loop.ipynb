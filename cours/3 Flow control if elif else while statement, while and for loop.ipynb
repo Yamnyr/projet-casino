{
 "cells": [
  {
   "cell_type": "markdown",
   "metadata": {
    "toc": true
   },
   "source": [
    "<h1>Table of Contents<span class=\"tocSkip\"></span></h1>\n",
    "<div class=\"toc\"><ul class=\"toc-item\"><li><span><a href=\"#Vrai-entretien-technique-:-FizzBuzz\" data-toc-modified-id=\"Vrai-entretien-technique-:-FizzBuzz-1\" data-vivaldi-spatnav-clickable=\"1\"><span class=\"toc-item-num\">1&nbsp;&nbsp;</span>Vrai entretien technique : <code>FizzBuzz</code></a></span></li><li><span><a href=\"#Kata--:-Dessiner-un-sapin-de-Noel\" data-toc-modified-id=\"Kata--:-Dessiner-un-sapin-de-Noel-2\" data-vivaldi-spatnav-clickable=\"1\"><span class=\"toc-item-num\">2&nbsp;&nbsp;</span>Kata  : Dessiner un sapin de Noel</a></span></li><li><span><a href=\"#Python-Tutor-:\" data-toc-modified-id=\"Python-Tutor-:-3\" data-vivaldi-spatnav-clickable=\"1\"><span class=\"toc-item-num\">3&nbsp;&nbsp;</span>Python Tutor :</a></span></li><li><span><a href=\"#if-elif-else-statements\" data-toc-modified-id=\"if-elif-else-statements-4\" data-vivaldi-spatnav-clickable=\"1\"><span class=\"toc-item-num\">4&nbsp;&nbsp;</span><code>if</code> <code>elif</code> <code>else</code> statements</a></span></li><li><span><a href=\"#while-and-for-loops\" data-toc-modified-id=\"while-and-for-loops-5\" data-vivaldi-spatnav-clickable=\"1\"><span class=\"toc-item-num\">5&nbsp;&nbsp;</span><code>while</code> and <code>for</code> loops</a></span></li></ul></div>"
   ]
  },
  {
   "cell_type": "markdown",
   "metadata": {},
   "source": [
    "# Vrai entretien technique : `FizzBuzz`\n",
    "\n",
    "`FizzBuzz` est un entretien technique d'embauche célèbre. Malgré sa simplicité, son constat est alarmant : **90%** des candidats y **échouent** (malgré leur beau CV).   \n",
    "\n",
    "**Enoncé :**  \n",
    "Écrire un programme qui imprime les nombres de 1 à 21. Mais pour les multiples de 3, afficher `Fizz` au lieu du nombre et pour les multiples de 5 afficher `Buzz`. Pour les nombres multiples de 3 et 5, afficher `FizzBuzz`.  \n",
    "\n",
    "=> 1, 2, 'Fizz', 4, 'Buzz', 'Fizz', 7, 8, 'Fizz', 'Buzz', 11, 'Fizz', 13, 14, 'FizzBuzz', 16, 17, 'Fizz', 19, 'Buzz'.\n",
    "\n",
    "**Maintenance du code ? :**\n",
    "\n",
    "Les besoins ont maintenant changé (afficher de 1 à 63) et on ajoute de nouvelles contraintes aux anciennes : afficher `Fizz` si le nombre est multiple de 7, `Buzz` pour les multiples de 9, `FizzBuzz` pour multiples de 7 et de 9.  "
   ]
  },
  {
   "cell_type": "code",
   "execution_count": null,
   "metadata": {},
   "outputs": [],
   "source": [
    "# La rép la + simple\n",
    "\n",
    "# http://www.compciv.org/guides/python/fundamentals/fizzbuzz-challenge/\n",
    "# S : Lien qui donnent la rép et explique où les développeurs se plantent.\n",
    "\n",
    "for i in range(1, 22, 1) :\n",
    "    if (i % 5 == 0) and (i % 3 == 0) : \n",
    "        print('FizzBuzz')\n",
    "    elif i % 3 == 0 : \n",
    "        print('Fizz')\n",
    "    elif i % 5 == 0 : \n",
    "        print('Buzz')\n",
    "    else : \n",
    "        print(i)\n",
    "\n",
    "# Q : Pourqoui la plupart des dév se plantent ?     \n",
    "# R : Ils se trompent sur l'ordre des conditions (la condition avec le and doit être en 1è lieu).\n",
    "\n",
    "for i in range(1, 21):\n",
    "    if i % 3 is 0:\n",
    "        print('Fizz')\n",
    "    elif i % 5 is 0:\n",
    "        print('Buzz')\n",
    "    elif i % 15 is 0:\n",
    "        print('FizzBuzz')\n",
    "    else:\n",
    "        print(i)\n",
    "        \n",
    "\n",
    "for i in range (1, 64) :\n",
    "    chr = ''\n",
    "    if i % 3 is 0:\n",
    "        print('Fizz')\n",
    "    if i % 5 is 0:\n",
    "        print('Buzz')\n",
    "    if i % 7 is 0:\n",
    "        print('Fizz')\n",
    "    if i % 9 is 0:\n",
    "        print('Buzz')    \n",
    "    else:\n",
    "        print(i)\n",
    "        \n",
    "# Ce qui veut dire que le conditions du code initiale d'afficher de 1 à 21 :  'if elif elif else'\n",
    "# peuvent être réduite à if if else (sans elif). On évite ainsi des elif (des ramifications dans le code )\n",
    "# Ce qui souvent le code incompréhensible.\n",
    "\n",
    "for i in range(1,22):\n",
    "\toutput = ''\n",
    "\tif i % 3 == 0 :\n",
    "\t\toutput += 'Fizz'\n",
    "\t\tprint(output)\n",
    "\tif i % 5 == 0 :\n",
    "\t\toutput += 'Buzz'\n",
    "\t\tprint(output)\n",
    "\tif output  == '' :\n",
    "\t\tprint(i)\n",
    "        \n",
    "def first():\n",
    "    for i in range(1,64):\n",
    "        res= \"\"        \n",
    "        if (i % 3 == 0) or (i % 7 == 0):\n",
    "            res+=\"Fizz\"        \n",
    "        if(i % 5 == 0) or (i % 9 == 0):\n",
    "            res+=\"Buzz\"        \n",
    "        if res == '':\n",
    "            res = str(i)\n",
    "        print(res)"
   ]
  },
  {
   "cell_type": "code",
   "execution_count": 4,
   "metadata": {},
   "outputs": [
    {
     "data": {
      "text/plain": [
       "'fizzBuzz'"
      ]
     },
     "execution_count": 4,
     "metadata": {},
     "output_type": "execute_result"
    }
   ],
   "source": []
  },
  {
   "cell_type": "markdown",
   "metadata": {},
   "source": [
    "# Kata  : Dessiner un sapin de Noel\n",
    "\n",
    "**à l'aide de `if` `else` et une boucle `for` ?**"
   ]
  },
  {
   "cell_type": "code",
   "execution_count": 7,
   "metadata": {},
   "outputs": [
    {
     "name": "stdout",
     "output_type": "stream",
     "text": [
      "^\n",
      "^^\n",
      "^^^\n",
      "^^^^\n",
      "^^^^^\n",
      "^^^^^^\n"
     ]
    }
   ],
   "source": [
    "# Une première piste (idée) : \n",
    "# 'a' * 4\n",
    "# 'bo' * 2\n",
    "# sauf que le sapin obtenu est penché alorq ns voulons un vrai sapin de Noël (bien centré) !\n",
    "for x in range(1, 7, 1) :\n",
    "\tprint('^' * x)"
   ]
  },
  {
   "cell_type": "code",
   "execution_count": 1,
   "metadata": {},
   "outputs": [
    {
     "name": "stdout",
     "output_type": "stream",
     "text": [
      "\n",
      "                    *                    \n",
      "                   ***                   \n",
      "                  *****                  \n",
      "                 *******                 \n",
      "                *********                \n",
      "               ***********               \n",
      "              *************              \n",
      "             ***************             \n",
      "            *****************            \n",
      "           *******************           \n",
      "          *********************          \n",
      "         ***********************         \n",
      "        *************************        \n",
      "       ***************************       \n",
      "      *****************************      \n",
      "     *******************************     \n",
      "    *********************************    \n",
      "   ***********************************   \n",
      "  *************************************  \n",
      " *************************************** \n",
      "<built-in method center of str object at 0x0000020F2C832570>\n"
     ]
    }
   ],
   "source": [
    "# S : 1è façon avec boucle for et if statment.\n",
    "\n",
    "char = \"*\"\n",
    "space = \" \"\n",
    "line_nb = 20 \t# Hauteur du sapin\n",
    "pad_size = line_nb - 1 # Nombre de \"blancs\" à insérer avant le ^\n",
    "print() \t# Saut d'un ligne pour ergonomie\n",
    "for num_ligne in range (1, line_nb+1) :\n",
    "\tif num_ligne == 1 : \t#  Je gère le cas où je suis sur la 1è ligne\n",
    "\t\tnbre_char_sapin = 1\n",
    "\telse :\n",
    "\t\tnbre_char_sapin = 2 * num_ligne -1\n",
    "\tprint(space * pad_size, char*nbre_char_sapin, space*pad_size) \t# Dessin\n",
    "\tpad_size -= 1 # Décrémenter le nombre de caractères de remplissage\n",
    "print(\"Mon beau Sapin de Noël\".center)"
   ]
  },
  {
   "cell_type": "markdown",
   "metadata": {},
   "source": [
    "# Python Tutor :\n",
    "http://www.pythontutor.com/visualize.html#mode=edit  \n",
    "**à utiliser sans modération**"
   ]
  },
  {
   "cell_type": "markdown",
   "metadata": {},
   "source": [
    "# `if` `elif` `else` statements"
   ]
  },
  {
   "cell_type": "code",
   "execution_count": 5,
   "metadata": {},
   "outputs": [
    {
     "name": "stdout",
     "output_type": "stream",
     "text": [
      "Hello!\n",
      "Give me a number : 51\n",
      "your number is greather than 50\n"
     ]
    }
   ],
   "source": [
    "print('Hello!')\n",
    "your_number = input('Give me a number : ')\n",
    "your_number = int(your_number)\n",
    "if your_number < 50 : # N'oubliez pas le double point !\n",
    "\tprint('your number is less than 50')  # N'oubliez pas l'indentation !\n",
    "elif your_number == 50 :\n",
    "\tprint('your number is equal to 50')\n",
    "else :\n",
    "\tprint('your number is greather than 50')"
   ]
  },
  {
   "cell_type": "code",
   "execution_count": 6,
   "metadata": {},
   "outputs": [
    {
     "name": "stdout",
     "output_type": "stream",
     "text": [
      "a est nul\n"
     ]
    }
   ],
   "source": [
    "# Another if elif else statement\n",
    "\n",
    "a = 0\n",
    "if a > 0 :\n",
    "\tprint(\"a est positif\")\n",
    "elif a < 0 :\n",
    "\tprint(\"a est négatif\")\n",
    "else :\n",
    "\tprint(\"a est nul\")"
   ]
  },
  {
   "cell_type": "code",
   "execution_count": 44,
   "metadata": {},
   "outputs": [
    {
     "name": "stdout",
     "output_type": "stream",
     "text": [
      "Est-ce que tu aime Python ?\n",
      "Pyhton réflichis...\n",
      "0\n",
      "Tu aime Python :)\n"
     ]
    }
   ],
   "source": [
    "# Ecrire un script de déclarartion d'amour `Python` ?\n",
    "\n",
    "from random import randrange\n",
    "from time import sleep \n",
    "answer = randrange(0, 2)\n",
    "print(\"Est-ce que tu aime Python ?\")\n",
    "if(answer == 0) :\n",
    "\tprint(\"Pyhton réflichis...\")\n",
    "\tprint(answer)\n",
    "\tsleep(1.5)\n",
    "\tprint(\"Tu aime Python :)\")\n",
    "else :\n",
    "\tprint(\"Pyhton réflichis...\")    \n",
    "\tprint(answer)\n",
    "\tsleep(1.5)\n",
    "\tprint(\"Tu n'aime pas Python :(\")"
   ]
  },
  {
   "cell_type": "markdown",
   "metadata": {},
   "source": [
    "# `while` and `for` loops  "
   ]
  },
  {
   "cell_type": "code",
   "execution_count": null,
   "metadata": {},
   "outputs": [],
   "source": [
    "# Q : Quelle est la diff entre ces 2 boucles (où print() est avant/apres l'incrémentation) ?\n",
    "# Plus particulièrement, pourquoi `a` prend tantôt la valeur 6 (7) ?\n",
    "# R :\n",
    "# print() ds la boucle2 arrive avant l'incrementation.\n",
    "# Tu peux vérifier la valeur de 'a' ds la console\n",
    "\n",
    "# loop1\n",
    "\n",
    "a = 0\n",
    "while (a < 7) :\n",
    "\tprint (a) \n",
    "\ta += 1\n",
    "\n",
    "# loop2\n",
    "\n",
    "a = 0\n",
    "while (a < 7) :\n",
    "\ta += 1\n",
    "\tprint (a)"
   ]
  },
  {
   "cell_type": "code",
   "execution_count": 9,
   "metadata": {},
   "outputs": [
    {
     "name": "stdout",
     "output_type": "stream",
     "text": [
      "0\n",
      "1\n",
      "2\n",
      "3\n",
      "4\n",
      "5\n",
      "6\n"
     ]
    }
   ],
   "source": [
    "# loop1\n",
    "\n",
    "a = 0\n",
    "while (a < 7) :\n",
    "\tprint (a) \n",
    "\ta += 1"
   ]
  },
  {
   "cell_type": "code",
   "execution_count": 10,
   "metadata": {},
   "outputs": [
    {
     "name": "stdout",
     "output_type": "stream",
     "text": [
      "1\n",
      "2\n",
      "3\n",
      "4\n",
      "5\n",
      "6\n",
      "7\n"
     ]
    }
   ],
   "source": [
    "# loop2\n",
    "\n",
    "a = 0\n",
    "while (a < 7) :\n",
    "\ta += 1\n",
    "\tprint (a)\n",
    "    "
   ]
  },
  {
   "cell_type": "markdown",
   "metadata": {},
   "source": [
    "https://stackoverflow.com/questions/94935/what-is-the-difference-between-range-and-xrange-functions-in-python-2-x"
   ]
  },
  {
   "cell_type": "code",
   "execution_count": null,
   "metadata": {},
   "outputs": [],
   "source": [
    "# Obj1 : `range`, se convaicre que taper une commande avec ces options est important !\n",
    "# Obj2 : Qu'est-ce qu'une `lazy` fonction ?\n",
    "\n",
    "# Tricks : Le recours à la fonc range ds 1boucle for est utile pr éviter de taper de une longue séquence (0,..., 100).\n",
    "# Bonne pratique : Ns pensons à mettre le start, le stop et le step.\n",
    "# Et non de faire des raccourcis (revenir après 6 mois sur 1projet, vs pouvez vs perdre ds le code) !\n",
    "# Rq : Lorsq vs allez faire des pkg, taper des commandes entières est obligatoire pr valider son pkg auprès de Pypy !\n",
    "\n",
    "\n",
    "# Q : Quelle est la diff entre les 3 for loop suivantes ?\n",
    "# Q : Refaire la même boucle mais le ds le sens inverse ?\n",
    "# i.e : un compte à rebours : afficher tous les nombres de à 7 à 1.\n",
    "    \n",
    "# loop1    \n",
    "\n",
    "for a in range(7) :\n",
    "\tprint(a)\n",
    "\n",
    "# loop2    \n",
    "for a in range(0, 7) :\n",
    "\tprint(a)\n",
    "    \n",
    "# loop3    \n",
    "for a in range(0, 7, 1) :\n",
    "\tprint(a)    \n",
    "\n",
    "# loop reversed\n",
    "for a in range(7, 0, -1) :\n",
    "\tprint(a)    "
   ]
  },
  {
   "cell_type": "code",
   "execution_count": null,
   "metadata": {
    "scrolled": false
   },
   "outputs": [],
   "source": [
    "# Infinite loop and How to stop it (manualy) ? \n",
    "# A exécuter ds Spyder !\n",
    "# Rq : Redémarrer le kernel ou  taper `ctrl + c` si vs êtes ds un terminal.\n",
    "\n",
    "\n",
    "# loop 1\n",
    "a = 5\n",
    "while a < 7 :\n",
    "\tprint('Bingo')\n",
    "\n",
    "\n",
    "# loop2\n",
    "# Boucle binaire : affiche que 0 et 1.\n",
    "\n",
    "a = 0\n",
    "while a < 7 :\n",
    "\tprint(a)\n",
    "\tb = a + 1\n",
    "\tprint(b)    "
   ]
  },
  {
   "cell_type": "code",
   "execution_count": null,
   "metadata": {},
   "outputs": [],
   "source": [
    "# Rq : Corriger la boucle avec une incrémentation de telle façon qu'elle s'arrête\n",
    "# et vs imprimez 2 fois 'Bingo' !\n",
    "\n",
    "a = 5\n",
    "while a < 7 :\n",
    "\tprint('Bingo')\n",
    "\ta += 1"
   ]
  },
  {
   "cell_type": "code",
   "execution_count": null,
   "metadata": {},
   "outputs": [],
   "source": [
    "# Q : Quelle est le moyen le + facile pr créer 1boucle infini (sans taper une condition) ?\n",
    "# Les conditions métiers peuvent s'averer parfaois complexes !\n",
    "# Ne vs inquitez pas, vs allez utiliser des if-elif-else.\n",
    "    \n",
    "while True : \n",
    "    print('Bingo')"
   ]
  },
  {
   "cell_type": "markdown",
   "metadata": {},
   "source": [
    "**`continue`, `break` and `pass`**\n",
    " \n",
    "Un parmi des tonnes de lien qui peuvent vous aider sur `continue`, `break` and `pass` statements  \n",
    "https://www.digitalocean.com/community/tutorials/how-to-use-break-continue-and-pass-statements-when-working-with-loops-in-python-3  "
   ]
  },
  {
   "cell_type": "code",
   "execution_count": null,
   "metadata": {},
   "outputs": [],
   "source": [
    "# `Continue` and `break`\n",
    "# Q : Etudier à quoi servent `continue` and `break` ds la boucle suivante ?  \n",
    "# Et pourquoi vs obtenez 6 comme dernier resultat bien qu'un if > 5 est bien indiqué ?!\n",
    "\n",
    "# R : \n",
    "# continue est très utile pr travailler au cas par cas (cas particuliers)\n",
    "\n",
    "for i in range (0, 10) :\n",
    "    if i == 2 :\n",
    "        continue\n",
    "    print (i)\n",
    "    if i >  5 :\n",
    "        break"
   ]
  },
  {
   "cell_type": "code",
   "execution_count": null,
   "metadata": {},
   "outputs": [],
   "source": [
    "# Q : Cmnt arrêter une boucle (en mode production) ? \n",
    "# A exécuter ds Spyder !\n",
    "\n",
    "import sys\n",
    "while True:\n",
    "    print('Type exit to exit.')\n",
    "    response = input()\n",
    "    if response == 'exit':\n",
    "        sys.exit()\n",
    "    print('You typed ' + response + '.')"
   ]
  }
 ],
 "metadata": {
  "kernelspec": {
   "display_name": "Python 3 (ipykernel)",
   "language": "python",
   "name": "python3"
  },
  "language_info": {
   "codemirror_mode": {
    "name": "ipython",
    "version": 3
   },
   "file_extension": ".py",
   "mimetype": "text/x-python",
   "name": "python",
   "nbconvert_exporter": "python",
   "pygments_lexer": "ipython3",
   "version": "3.7.6"
  },
  "nbTranslate": {
   "displayLangs": [
    "*"
   ],
   "hotkey": "alt-t",
   "langInMainMenu": true,
   "sourceLang": "en",
   "targetLang": "fr",
   "useGoogleTranslate": true
  },
  "toc": {
   "nav_menu": {},
   "number_sections": true,
   "sideBar": true,
   "skip_h1_title": false,
   "title_cell": "Table of Contents",
   "title_sidebar": "Contents",
   "toc_cell": true,
   "toc_position": {
    "height": "calc(100% - 180px)",
    "left": "10px",
    "top": "150px",
    "width": "245px"
   },
   "toc_section_display": true,
   "toc_window_display": true
  }
 },
 "nbformat": 4,
 "nbformat_minor": 2
}
