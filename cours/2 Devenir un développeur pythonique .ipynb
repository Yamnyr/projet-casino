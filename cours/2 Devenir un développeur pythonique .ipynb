{
 "cells": [
  {
   "cell_type": "markdown",
   "metadata": {
    "toc": true
   },
   "source": [
    "<h1>Table of Contents<span class=\"tocSkip\"></span></h1>\n",
    "<div class=\"toc\"><ul class=\"toc-item\"><li><span><a href=\"#Enoncé-du-projet\" data-toc-modified-id=\"Enoncé-du-projet-1\" data-vivaldi-spatnav-clickable=\"1\"><span class=\"toc-item-num\">1&nbsp;&nbsp;</span>Enoncé du projet</a></span></li><li><span><a href=\"#Vrai-question-d'un-entretien-technique-:\" data-toc-modified-id=\"Vrai-question-d'un-entretien-technique-:-2\" data-vivaldi-spatnav-clickable=\"1\"><span class=\"toc-item-num\">2&nbsp;&nbsp;</span>Vrai question d'un entretien technique :</a></span></li><li><span><a href=\"#Projet-Correction\" data-toc-modified-id=\"Projet-Correction-3\" data-vivaldi-spatnav-clickable=\"1\"><span class=\"toc-item-num\">3&nbsp;&nbsp;</span>Projet Correction</a></span><ul class=\"toc-item\"><li><span><a href=\"#3-façons-de-le-faire,-avec/sans-True-et-la-façon-naïve\" data-toc-modified-id=\"3-façons-de-le-faire,-avec/sans-True-et-la-façon-naïve-3.1\" data-vivaldi-spatnav-clickable=\"1\"><span class=\"toc-item-num\">3.1&nbsp;&nbsp;</span>3 façons de le faire, avec/sans True et la façon naïve</a></span></li><li><span><a href=\"#Comment-mettre-en-place-un-compteur-?\" data-toc-modified-id=\"Comment-mettre-en-place-un-compteur-?-3.2\" data-vivaldi-spatnav-clickable=\"1\"><span class=\"toc-item-num\">3.2&nbsp;&nbsp;</span>Comment mettre en place un compteur ?</a></span></li><li><span><a href=\"#Q-:-Comment-quitter-Python\" data-toc-modified-id=\"Q-:-Comment-quitter-Python-3.3\" data-vivaldi-spatnav-clickable=\"1\"><span class=\"toc-item-num\">3.3&nbsp;&nbsp;</span>Q : Comment quitter Python</a></span></li></ul></li><li><span><a href=\"#Let's-calculate-with-Python\" data-toc-modified-id=\"Let's-calculate-with-Python-4\" data-vivaldi-spatnav-clickable=\"1\"><span class=\"toc-item-num\">4&nbsp;&nbsp;</span>Let's calculate with Python</a></span></li><li><span><a href=\"#Comparison-Operators\" data-toc-modified-id=\"Comparison-Operators-5\" data-vivaldi-spatnav-clickable=\"1\"><span class=\"toc-item-num\">5&nbsp;&nbsp;</span>Comparison Operators</a></span></li><li><span><a href=\"#Boolean-Operators\" data-toc-modified-id=\"Boolean-Operators-6\" data-vivaldi-spatnav-clickable=\"1\"><span class=\"toc-item-num\">6&nbsp;&nbsp;</span>Boolean Operators</a></span></li><li><span><a href=\"#Les-imports\" data-toc-modified-id=\"Les-imports-7\" data-vivaldi-spatnav-clickable=\"1\"><span class=\"toc-item-num\">7&nbsp;&nbsp;</span>Les imports</a></span></li><li><span><a href=\"#Les-affectations\" data-toc-modified-id=\"Les-affectations-8\" data-vivaldi-spatnav-clickable=\"1\"><span class=\"toc-item-num\">8&nbsp;&nbsp;</span>Les affectations</a></span></li></ul></div>"
   ]
  },
  {
   "cell_type": "markdown",
   "metadata": {},
   "source": [
    "# Vrai question d'un entretien technique : \n",
    "`Etes-vous un développeur pythonique ?`"
   ]
  },
  {
   "cell_type": "code",
   "execution_count": 1,
   "metadata": {},
   "outputs": [
    {
     "name": "stdout",
     "output_type": "stream",
     "text": [
      "The Zen of Python, by Tim Peters\n",
      "\n",
      "Beautiful is better than ugly.\n",
      "Explicit is better than implicit.\n",
      "Simple is better than complex.\n",
      "Complex is better than complicated.\n",
      "Flat is better than nested.\n",
      "Sparse is better than dense.\n",
      "Readability counts.\n",
      "Special cases aren't special enough to break the rules.\n",
      "Although practicality beats purity.\n",
      "Errors should never pass silently.\n",
      "Unless explicitly silenced.\n",
      "In the face of ambiguity, refuse the temptation to guess.\n",
      "There should be one-- and preferably only one --obvious way to do it.\n",
      "Although that way may not be obvious at first unless you're Dutch.\n",
      "Now is better than never.\n",
      "Although never is often better than *right* now.\n",
      "If the implementation is hard to explain, it's a bad idea.\n",
      "If the implementation is easy to explain, it may be a good idea.\n",
      "Namespaces are one honking great idea -- let's do more of those!\n"
     ]
    }
   ],
   "source": [
    "# Q : Essayer de comprendre la sortie obtenue ? \n",
    "import this\n",
    "# https://zestedesavoir.com/articles/1079/les-secrets-dun-code-pythonique/\n",
    "# S : lien qui explique le principe zen de Python avec des exemples de codes.\n",
    "\n",
    "# Q : La norme PEP 8\n",
    "# http://sametmax.com/le-pep8-en-resume/"
   ]
  },
  {
   "cell_type": "markdown",
   "metadata": {},
   "source": []
  },
  {
   "cell_type": "markdown",
   "metadata": {},
   "source": [
    "# Let's calculate with Python"
   ]
  },
  {
   "cell_type": "code",
   "execution_count": 1,
   "metadata": {},
   "outputs": [
    {
     "data": {
      "text/plain": [
       "3"
      ]
     },
     "execution_count": 1,
     "metadata": {},
     "output_type": "execute_result"
    }
   ],
   "source": [
    "2 + 1"
   ]
  },
  {
   "cell_type": "code",
   "execution_count": 2,
   "metadata": {},
   "outputs": [
    {
     "data": {
      "text/plain": [
       "12"
      ]
     },
     "execution_count": 2,
     "metadata": {},
     "output_type": "execute_result"
    }
   ],
   "source": [
    "3 * 4"
   ]
  },
  {
   "cell_type": "code",
   "execution_count": 3,
   "metadata": {},
   "outputs": [
    {
     "data": {
      "text/plain": [
       "8"
      ]
     },
     "execution_count": 3,
     "metadata": {},
     "output_type": "execute_result"
    }
   ],
   "source": [
    "2 ** 3 # OU 2^3  # puissance"
   ]
  },
  {
   "cell_type": "code",
   "execution_count": 4,
   "metadata": {},
   "outputs": [
    {
     "name": "stdout",
     "output_type": "stream",
     "text": [
      "8\n",
      "13\n"
     ]
    }
   ],
   "source": [
    "# Q : Cmnt tu te rappele du dernier résultat ? \n",
    "\n",
    "print(_)\n",
    "print(_ + 5)\n",
    "\n",
    "# .Last.value   # L'équivalent ds R \n",
    "# .Last.value  + 5"
   ]
  },
  {
   "cell_type": "code",
   "execution_count": 6,
   "metadata": {
    "scrolled": true
   },
   "outputs": [
    {
     "name": "stdout",
     "output_type": "stream",
     "text": [
      "40\n"
     ]
    }
   ],
   "source": [
    "# Rq : Les parenthèses sont importantes !\n",
    "\n",
    "# print(7 + 3 * 4)\n",
    "# print((7 + 3) * 4)"
   ]
  },
  {
   "cell_type": "code",
   "execution_count": 14,
   "metadata": {},
   "outputs": [
    {
     "data": {
      "text/plain": [
       "2"
      ]
     },
     "execution_count": 14,
     "metadata": {},
     "output_type": "execute_result"
    }
   ],
   "source": [
    "# Q : un petit tour sur les divisions !\n",
    "\n",
    "# 6 / 4 # division normale\n",
    "# 6 // 4 # division euclidienne (ds R :  6 %/% 4)\n",
    "# 6 % 4 # modulo : reste de la division, ds R deux % (6 %% 4)"
   ]
  },
  {
   "cell_type": "markdown",
   "metadata": {},
   "source": [
    "# Comparison Operators"
   ]
  },
  {
   "cell_type": "code",
   "execution_count": null,
   "metadata": {},
   "outputs": [],
   "source": [
    "# Rappel des opérateurs de comparaison (en Anglais)\n",
    "# Très important : L'évaluation donne soit True soit False\n",
    "# Tester avec des var numériques (des vars char). \n",
    "\n",
    "x == y # x est égal à y  (x is Equal to y)\n",
    "\n",
    "x != y # x est différent de y (x is Not Equal to y).\n",
    "\n",
    "x > y # x est supérieur que y (x is Greather than y).\n",
    "\n",
    "x < y # x est inférieur que y (x is Less than y)\n",
    "\n",
    "x >= y # x est supérieur ou égal à y (x is Greater than or equal to y)\n",
    "\n",
    "x <= y # x est inférieur ou égal à y (x is Less than or equal to y)"
   ]
  },
  {
   "cell_type": "markdown",
   "metadata": {},
   "source": [
    "# Boolean Operators"
   ]
  },
  {
   "cell_type": "code",
   "execution_count": 18,
   "metadata": {},
   "outputs": [
    {
     "data": {
      "text/plain": [
       "False"
      ]
     },
     "execution_count": 18,
     "metadata": {},
     "output_type": "execute_result"
    }
   ],
   "source": [
    "# Truth table (`and`) : \n",
    "# Tricks : ça marche comme en Maths True = `1` et False = `0` ET vs prenez le MIN() (vs faites le produit).\n",
    "\n",
    "# True and True # True    \n",
    "\n",
    "# True and False # False\n",
    "\n",
    "# False and True # False\n",
    "\n",
    "# False and False # False"
   ]
  },
  {
   "cell_type": "code",
   "execution_count": null,
   "metadata": {},
   "outputs": [],
   "source": [
    "# Fill the Truth table (`or` case)\n",
    "# Tricks : ça marche comme en Maths True = 1 et False = 0 ET vs prenez le MAX() (vs faite la somme)."
   ]
  },
  {
   "cell_type": "code",
   "execution_count": null,
   "metadata": {},
   "outputs": [],
   "source": [
    "# Q : Evaluer ces expressions sans les exécuter\n",
    "\n",
    "not True  \n",
    "not False # The `not` operator  \n",
    "(4 < 5) and (5 < 6)  \n",
    "(5 > 4) and (3 == 5)  \n",
    "not (5 > 4)  \n",
    "(5 > 4) or (3 == 5)  \n",
    "not ((5 > 4) or (3 == 5))  \n",
    "(True and True) and (True == False)  \n",
    "(not False) or (not True)"
   ]
  },
  {
   "cell_type": "markdown",
   "metadata": {},
   "source": [
    "# Les imports  "
   ]
  },
  {
   "cell_type": "code",
   "execution_count": 20,
   "metadata": {},
   "outputs": [
    {
     "ename": "NameError",
     "evalue": "name 'pi' is not defined",
     "output_type": "error",
     "traceback": [
      "\u001b[1;31m---------------------------------------------------------------------------\u001b[0m",
      "\u001b[1;31mNameError\u001b[0m                                 Traceback (most recent call last)",
      "\u001b[1;32m~\\AppData\\Local\\Temp/ipykernel_2636/3440806613.py\u001b[0m in \u001b[0;36m<module>\u001b[1;34m\u001b[0m\n\u001b[1;32m----> 1\u001b[1;33m \u001b[0mpi\u001b[0m\u001b[1;33m\u001b[0m\u001b[1;33m\u001b[0m\u001b[0m\n\u001b[0m",
      "\u001b[1;31mNameError\u001b[0m: name 'pi' is not defined"
     ]
    }
   ],
   "source": [
    "pi"
   ]
  },
  {
   "cell_type": "code",
   "execution_count": 24,
   "metadata": {},
   "outputs": [
    {
     "data": {
      "text/plain": [
       "3.141592653589793"
      ]
     },
     "execution_count": 24,
     "metadata": {},
     "output_type": "execute_result"
    }
   ],
   "source": [
    "import math\n",
    "# Q : Cmnt calculer la racine carée de 9, trouver la valeur de pi, ... ?\n",
    "\n",
    "# import math\n",
    "# math.sqrt(9)\n",
    "# Ttes les fonctions qui appartiennet à `math` sont accessibles\n",
    "# math.e\n",
    "math.pi"
   ]
  },
  {
   "cell_type": "code",
   "execution_count": 8,
   "metadata": {},
   "outputs": [],
   "source": [
    "# Autre façon d'importer\n",
    "\n",
    "from math import log\n",
    "from math import log, pi, e  # import multiple functions at once.\n",
    "import pandas as pd\n",
    "\n",
    "# Les deux imports suivants sont équivalents : \n",
    "from matplotlib import pyplot as plt # avec une préf pr le 1è\n",
    "import matplotlib.pyplot as plt\n",
    "\n",
    "import foo.bar.baz as fbb\n",
    "\n",
    "from pandas import *  # mauvaise pratique"
   ]
  },
  {
   "cell_type": "code",
   "execution_count": null,
   "metadata": {},
   "outputs": [],
   "source": [
    "# Q : Quelles sont les bonnes pratiques en terme des imports ?\n",
    "# Q : Comment détecter les packages importés et non utilisés ? \n",
    "https://stackoverflow.com/questions/2540202/how-can-i-check-for-unused-import-in-many-python-files\n",
    "# Insister sur cette phrase à la fin de l'énoncé de la Q du développeur :\n",
    "# \"All my imports are explicit, I don't usually write from blah import *\"\n",
    "# Càd, si tu importe * (pylint, autoFlake8, pychecker,...) ne poura plus vérifier si les modules importés \n",
    "# ont été vraiment utilisés utilisés (ou non) ? \n",
    "\n",
    "\n",
    "# R : \n",
    "# Importer dont ce que ns avons besoins\n",
    "    from math import sqrt\n",
    "    from math import pi\n",
    "    from math import *  # mauvaise pratique.\n",
    "# placer les import au début du script. \n",
    "# pychecker est un package le fait très bien ! "
   ]
  },
  {
   "cell_type": "markdown",
   "metadata": {},
   "source": [
    "# Les affectations  "
   ]
  },
  {
   "cell_type": "code",
   "execution_count": null,
   "metadata": {},
   "outputs": [],
   "source": [
    "var_entier = 3 # `int`\n",
    "var_flottant = 3.3 # `float`\n",
    "var_caract_courte = 'exemple'   # `str`\n",
    "var_caract_longue = '''exemple sur plusieurs lignes'''\n",
    "var_empty = None # Une variable vide\n",
    "var_bool_yes = True\n",
    "var_bool_no = False"
   ]
  }
 ],
 "metadata": {
  "interpreter": {
   "hash": "da03a2949bd7f7e1e2f8a272eaea5cb5c8effd8622bbe3cc4e7f8a7d557202f6"
  },
  "kernelspec": {
   "display_name": "Python 3 (ipykernel)",
   "language": "python",
   "name": "python3"
  },
  "language_info": {
   "codemirror_mode": {
    "name": "ipython",
    "version": 3
   },
   "file_extension": ".py",
   "mimetype": "text/x-python",
   "name": "python",
   "nbconvert_exporter": "python",
   "pygments_lexer": "ipython3",
   "version": "3.7.6"
  },
  "nbTranslate": {
   "displayLangs": [
    "*"
   ],
   "hotkey": "alt-t",
   "langInMainMenu": true,
   "sourceLang": "en",
   "targetLang": "fr",
   "useGoogleTranslate": true
  },
  "toc": {
   "nav_menu": {},
   "number_sections": true,
   "sideBar": true,
   "skip_h1_title": false,
   "title_cell": "Table of Contents",
   "title_sidebar": "Contents",
   "toc_cell": true,
   "toc_position": {
    "height": "calc(100% - 180px)",
    "left": "10px",
    "top": "150px",
    "width": "165px"
   },
   "toc_section_display": true,
   "toc_window_display": true
  }
 },
 "nbformat": 4,
 "nbformat_minor": 2
}
