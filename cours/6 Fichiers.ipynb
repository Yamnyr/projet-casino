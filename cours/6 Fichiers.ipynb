{
 "cells": [
  {
   "cell_type": "markdown",
   "metadata": {
    "toc": true
   },
   "source": [
    "<h1>Table of Contents<span class=\"tocSkip\"></span></h1>\n",
    "<div class=\"toc\"><ul class=\"toc-item\"><li><span><a href=\"#Kata\" data-toc-modified-id=\"Kata-1\" data-vivaldi-spatnav-clickable=\"1\"><span class=\"toc-item-num\">1&nbsp;&nbsp;</span>Kata</a></span></li><li><span><a href=\"#Kata-(logique-programmation)\" data-toc-modified-id=\"Kata-(logique-programmation)-2\" data-vivaldi-spatnav-clickable=\"1\"><span class=\"toc-item-num\">2&nbsp;&nbsp;</span>Kata (logique programmation)</a></span></li><li><span><a href=\"#Un-tour-sur-stackoverflmow-:-diff-entre-w,-r,-a-?\" data-toc-modified-id=\"Un-tour-sur-stackoverflmow-:-diff-entre-w,-r,-a-?-3\" data-vivaldi-spatnav-clickable=\"1\"><span class=\"toc-item-num\">3&nbsp;&nbsp;</span>Un tour sur stackoverflmow : diff entre <code>w</code>, <code>r</code>, <code>a</code> ?</a></span><ul class=\"toc-item\"><li><span><a href=\"#L'option-w\" data-toc-modified-id=\"L'option-w-3.1\" data-vivaldi-spatnav-clickable=\"1\"><span class=\"toc-item-num\">3.1&nbsp;&nbsp;</span>L'option <code>w</code></a></span><ul class=\"toc-item\"><li><span><a href=\"#Remplir-un-fichier-à-l'aide-d'une-boucle\" data-toc-modified-id=\"Remplir-un-fichier-à-l'aide-d'une-boucle-3.1.1\" data-vivaldi-spatnav-clickable=\"1\"><span class=\"toc-item-num\">3.1.1&nbsp;&nbsp;</span>Remplir un fichier à l'aide d'une boucle</a></span></li><li><span><a href=\"#how-to-convert-a-list-in-python-to-a-text-file\" data-toc-modified-id=\"how-to-convert-a-list-in-python-to-a-text-file-3.1.2\" data-vivaldi-spatnav-clickable=\"1\"><span class=\"toc-item-num\">3.1.2&nbsp;&nbsp;</span>how to convert a list in python to a text file</a></span></li></ul></li><li><span><a href=\"#L'option-r-:-read()-Vs.-readline()-Vs.-readlines()-?\" data-toc-modified-id=\"L'option-r-:-read()-Vs.-readline()-Vs.-readlines()-?-3.2\" data-vivaldi-spatnav-clickable=\"1\"><span class=\"toc-item-num\">3.2&nbsp;&nbsp;</span>L'option <code>r</code> : <code>read()</code> Vs. <code>readline()</code> Vs. <code>readlines()</code> ?</a></span><ul class=\"toc-item\"><li><span><a href=\"#read()\" data-toc-modified-id=\"read()-3.2.1\" data-vivaldi-spatnav-clickable=\"1\"><span class=\"toc-item-num\">3.2.1&nbsp;&nbsp;</span><code>read()</code></a></span></li><li><span><a href=\"#readline()-Vs.-une-boucle-for\" data-toc-modified-id=\"readline()-Vs.-une-boucle-for-3.2.2\" data-vivaldi-spatnav-clickable=\"1\"><span class=\"toc-item-num\">3.2.2&nbsp;&nbsp;</span><code>readline()</code> Vs. une boucle <code>for</code></a></span></li><li><span><a href=\"#readlines()--Vs.-list(f)\" data-toc-modified-id=\"readlines()--Vs.-list(f)-3.2.3\" data-vivaldi-spatnav-clickable=\"1\"><span class=\"toc-item-num\">3.2.3&nbsp;&nbsp;</span><code>readlines()</code>  Vs. <code>list(f)</code></a></span></li></ul></li><li><span><a href=\"#Option-a\" data-toc-modified-id=\"Option-a-3.3\" data-vivaldi-spatnav-clickable=\"1\"><span class=\"toc-item-num\">3.3&nbsp;&nbsp;</span>Option <code>a</code></a></span></li></ul></li></ul></div>"
   ]
  },
  {
   "cell_type": "markdown",
   "metadata": {},
   "source": [
    "Documentation officielle  \n",
    "https://docs.python.org/fr/3.7/tutorial/inputoutput.html#methods-of-file-objects  "
   ]
  },
  {
   "cell_type": "markdown",
   "metadata": {},
   "source": [
    "# Kata  "
   ]
  },
  {
   "cell_type": "markdown",
   "metadata": {},
   "source": [
    "Ds le but de vs préparer au `Natural Langage Processing` (NLP), vous devez maîtriser la manipulation des fichiers et le travail sur les chaînes de caractères.  \n",
    "Télécharger le fichier `f.txt` qui qui contient un grand nombre de mots en français.  \n",
    "Ds un seul script (`f.py`), écrire les commandes qui vous permettent d'ouvrir le `f.txt` et de répondre à l'ensemble de questions suivantes :  \n",
    "• Combien `f.txt` contient de mots ?  \n",
    "• Quelle est le mot le plus long ?  \n",
    "• Quelle est le pourcentage des mots qui contiennent un « e » (hors accent) ?  \n",
    "• Quelle est le nombre de mots qui commence par un « e » (hors accent) ?  \n",
    "• Lister les mots qui contiennent les lettres « th » suivies d’une consonne ?  \n",
    "• Trouver la septième lettre la plus fréquente ?"
   ]
  },
  {
   "cell_type": "markdown",
   "metadata": {},
   "source": [
    "# Kata (logique programmation)\n",
    "  "
   ]
  },
  {
   "cell_type": "code",
   "execution_count": 46,
   "metadata": {},
   "outputs": [],
   "source": [
    "# Ecrire un script qui permet de faire une copie d'un fichier A (source) vers un fichier B (ds la même destination) ?\n",
    "\n",
    "def copieFichier(source, destination):\n",
    "    \"copie integrale d'un fichier\"\n",
    "    fs = open(source, 'r')\n",
    "    fd = open(destination, 'w')\n",
    "    while 1:\n",
    "        txt = fs.read(50)\n",
    "        if txt ==\"\":\n",
    "            break\n",
    "        fd.write(txt)\n",
    "    fs.close()\n",
    "    fd.close()\n",
    "    return\n",
    "    \n",
    "copieFichier(\"test.txt\",\"test3.txt\")"
   ]
  },
  {
   "cell_type": "markdown",
   "metadata": {},
   "source": [
    "# Un tour sur stackoverflmow : diff entre `w`, `r`, `a` ? \n",
    "https://stackoverflow.com/questions/1466000/python-open-built-in-function-difference-between-modes-a-a-w-w-and-r  "
   ]
  },
  {
   "cell_type": "code",
   "execution_count": null,
   "metadata": {},
   "outputs": [],
   "source": [
    "import os\n",
    "path = 'C:/Users/bejao/OneDrive/data'\n",
    "if os.getcwd() != path :\n",
    "\tos.chdir = path\n",
    "print(path)\n",
    "\n",
    "total = 0\n",
    "deb_e = 0\n",
    "lmax = 0\n",
    "nb_e = 0\n",
    "freq = [[0, chr(ord('a')+i)] for i in range(26)]\n",
    "th = []\n",
    "\n",
    "if os.path.exists('fichier_mots.txt') :\n",
    "\twith open('fichier_mots.txt', 'r', encoding='utf8') as f :\n",
    "\t\tfor mot in f:\n",
    "\t\t\ttotal += 1\n",
    "\t\t\tif mot[0] == 'e':\n",
    "\t\t\t\tdeb_e += 1\n",
    "\t\t\tif len(mot) > lmax:\n",
    "\t\t\t\tlmax = len(mot)\n",
    "\t\t\t\tmotmax = mot.strip()\n",
    "\t\t\tif 'e' in mot:\n",
    "\t\t\t\tnb_e += 1\n",
    "\t\t\tfor lettre in mot:\n",
    "\t\t\t\tif 'a' <= lettre <= 'z':\n",
    "\t\t\t\t\tfreq[ord(lettre) - ord('a')][0] += 1\n",
    "\t\t\tfor i in range(len(mot)-2):\n",
    "\t\t\t\tif mot[i:i+2] == 'th' and mot[i+2] in \"zrtpqsdfghjklmwxcvbn\":\n",
    "\t\t\t\t\tth.append(mot.strip())\n",
    "\t\tprint(\"Il y a\", total, \"mots dont\", deb_e, \"commencent par un 'e'.\")\n",
    "\t\tprint(\"Le mot le plus long est\", motmax)\n",
    "\t\tprint(\"{:2.2%} contiennent au moins un 'e'.\".format(nb_e/total))\n",
    "\t\tfreq.sort(reverse=True)\n",
    "\t\tprint(\"La septième lettre la plus fréquente est le\", freq[6][1])\n",
    "\t\tprint(\"Les mots contenant les lettres 'th' suivies d'une consone sont\", ','.join(th))"
   ]
  },
  {
   "cell_type": "markdown",
   "metadata": {},
   "source": [
    "## L'option `w`  "
   ]
  },
  {
   "cell_type": "code",
   "execution_count": 5,
   "metadata": {},
   "outputs": [],
   "source": [
    "# Q : Après s'être positionné dans le dossier `data`, exécuter le code suivant ?\n",
    "# Q : Ouvrir le dossier `data` et le fichier `test.txt` (à l'aide d'un éditeur de texte) et observer le résultat ?\n",
    "# R : Ns avons crée un fichier `test.txt` et écris dessus.\n",
    "\n",
    "f = open('test.txt', 'w')\n",
    "f.write(\"Bonjour\\n\")\n",
    "f.write(\"Ceci est un test d'ecriture dans un fichier\")\n",
    "f.close()"
   ]
  },
  {
   "cell_type": "code",
   "execution_count": 9,
   "metadata": {},
   "outputs": [],
   "source": [
    "# Relancer juste la 1è ligne du code précédent ? \n",
    "# Ouvrir le fichier `test.txt` et constater le résultat ?\n",
    "# R : Le fichier a été écrasé (ns avons perdu les écritures).\n",
    "# cl : l'option `w` a utiliser que pr la création !\n",
    "\n",
    "f = open('test.txt', 'w')"
   ]
  },
  {
   "cell_type": "code",
   "execution_count": 7,
   "metadata": {},
   "outputs": [
    {
     "data": {
      "text/plain": [
       "43"
      ]
     },
     "execution_count": 7,
     "metadata": {},
     "output_type": "execute_result"
    }
   ],
   "source": [
    "# Q : Re-éxécuter les 2 commandes d'écriture (sans le `f.close`) et constater le résultat ?\n",
    "# R : Aucune écriture ds le fichier malgré le fait que vs avez lancé plusieurs commandes d'écriture.\n",
    "# Q : Pourquoi ?\n",
    "# R : Ns n'avons pas fermé le fichier : f.close()\n",
    "# Si on lance f.close(), les écritures auront bien lieu (mais on ne vas pas le faire pour le moment)\n",
    "# Cl : Penser à toujours fermer les fichiers (sinon aucune modif ne sera pas apportée) ! \n",
    "\n",
    "f.write(\"Bonjour\\n\")\n",
    "f.write(\"Ceci est un test d'écriture dans un fichier\")"
   ]
  },
  {
   "cell_type": "code",
   "execution_count": null,
   "metadata": {},
   "outputs": [],
   "source": [
    "# Q : Ouvrir le dossier `data` et supp physiquement le fichier `test.txt` ?\n",
    "# R : Impossible d'effacer (fichier utilisé par Python) ; msg d'avertissement : \n",
    "# \"Cette action ne peut pas être réalisé car le fichier est ouvert dans Python\".\n",
    "# Att : Si, on kill le kernel Python avant de faire close(), aucune sauvegarde ne sera effectué (modif perdue).\n",
    "# Cl : Utiliser la syntaxe suivante (pythonique), aussi parce qu'on oubli souvent de fermer les fichiers ?\n",
    "with open('test.txt', 'w') as f : \n",
    "    f.write(\"Bonjour\\n\")\n",
    "    f.write(\"Ceci est un test d'ecriture dans un fichier\")\n",
    "# f.close() #  il n'y a plus besoin d'utiliser f.close()"
   ]
  },
  {
   "cell_type": "markdown",
   "metadata": {},
   "source": [
    "### Remplir un fichier à l'aide d'une boucle  "
   ]
  },
  {
   "cell_type": "code",
   "execution_count": 10,
   "metadata": {},
   "outputs": [],
   "source": [
    "# Q : Cmnt utiliser une boucle pr remplir un fichier ?\n",
    "\n",
    "with open(\"test2.txt\", \"w\") as f :\n",
    "\tfor ligne in range(0, 10, 1) :\n",
    "\t\tf.write(\"Je suis la ligne \" + str(ligne + 1) + \" !\\n\")\n",
    "        # f.write(\"Je suis la ligne \" + str(ligne + 1) + \" !\" + \"\\n\") #  équivalent"
   ]
  },
  {
   "cell_type": "markdown",
   "metadata": {},
   "source": [
    "### how to convert a list in python to a text file  \n",
    "https://stackoverflow.com/questions/38990070/how-to-convert-a-list-in-python-to-a-text-file    \n",
    "https://stackoverflow.com/questions/899103/writing-a-list-to-a-file-with-python"
   ]
  },
  {
   "cell_type": "code",
   "execution_count": null,
   "metadata": {},
   "outputs": [],
   "source": [
    "# Q : Transformer les listes 1 et 2 en un fichier ? 3 méthodes : write(), writelines() et join()\n",
    "# N.B : Chaque item de la liste constitue une ligne ds le fichier.\n",
    "\n",
    "liste1 = [\"Je transforme une liste !\", \"en fichier.txt !\", \"Et ça marche !\"]\n",
    "liste2 = [\"Je transforme la liste !\", 2, \"en fichier.txt !\", \"Et ça marche !\"]\n",
    "\n",
    "with open(\"f_liste1.txt\",\"w\") as f :\n",
    "\tf.writelines(liste1)\n",
    "\n",
    "# S : Je transforme une liste !en fichier.txt !Et ça marche !\n",
    "# R : Pas agréable à lire ! Clairement, ce n'est pas le résultat escompté (pas de retour à la ligne, pas d'espace,...). \n",
    "# Cl : `writelines()` contrairement à son nom n'écrit pas de lignes.\n",
    "\n",
    "# On essaye avec la méthode join()\n",
    "\n",
    "# On essaye à l'aide d'une boucle et la méthode write()\n",
    "\n",
    "with open('f_liste1.txt', 'w') as f :\n",
    "\tfor i in liste1 :\n",
    "        f.write(\"{}\\n\".format(i))\n",
    "        \n",
    "# S : 3 lignes, OK !\n",
    "        \n",
    "# Rq : Sinon, une 2è solution : rajouter '\\n' au sein des items de la liste (pas pratique face à des longues listes).\n",
    "\n",
    "with open('f_liste2.txt', 'w') as f_l2 :\n",
    "\tfor i in liste2 :\n",
    "        f_l2.write(\"{}\\n\".format(i))\n",
    "        \n",
    "# Cl : Il vaut mieux utiliser la méthode write() qui est mieux que le writelines() ou join() !\n",
    "# Rq : Tu ne peux pas appliquer writelines() ou join() sur des listes qui\n",
    "# comprenne des int (il vaut que ça soit uniq une liste de str) !        "
   ]
  },
  {
   "cell_type": "markdown",
   "metadata": {},
   "source": [
    "## L'option `r` : `read()` Vs. `readline()` Vs. `readlines()` ?"
   ]
  },
  {
   "cell_type": "markdown",
   "metadata": {},
   "source": [
    "### `read()`   "
   ]
  },
  {
   "cell_type": "code",
   "execution_count": null,
   "metadata": {},
   "outputs": [],
   "source": [
    "# Q : Quelle est le type de `f_content` ?\n",
    "\n",
    "with open('test.txt', 'r') as f :\n",
    "\tf_content = f.read()\n",
    "\tprint(f_content)\n",
    "\n",
    "# R : `f_content` est un str : tt le contenu du fichier est stocké ds 1seule chaine de caractère.\n",
    "# Ce qui est pratique pour appliquer des regex search ou des substitution (sur le fichier).\n",
    "\n",
    "# f.read(n) : Pour lire n caractères à partir de la position courante du curseur.\n",
    "# Q : How to read a single character at a time from a file in Python ?\n",
    "https://stackoverflow.com/questions/2988211/how-to-read-a-single-character-at-a-time-from-a-file-in-python\n",
    "\n",
    "with open('test.txt', 'r') as f : \n",
    "    b1 = f.read(3)\n",
    "    b2 = f.read(4)\n",
    "\n",
    "# Dés que vs avez terminé la lecture, vs pouvez sortir du `with`.\n",
    "print(b1)    \n",
    "print(b2)\n",
    "print(b1 + b2)\n"
   ]
  },
  {
   "cell_type": "markdown",
   "metadata": {},
   "source": [
    "### `readline()` Vs. une boucle `for`   "
   ]
  },
  {
   "cell_type": "code",
   "execution_count": null,
   "metadata": {},
   "outputs": [],
   "source": [
    "# S : Tu lis ligne par ligne (position courante du curseur !)\n",
    "\n",
    "f = open('test.txt', 'r')\n",
    "f.readline()\n",
    "f.readline()\n",
    "\n",
    "# S : Je lis la 1è ligne du fichier, ce qui peut être pratique si le fichier est très volumineux \n",
    "# et j'ai juste besoin de vérifiier 1è ligne.\n",
    "\n",
    "# Autre façon plus efficiente en terme de gestion de mémoire \n",
    "# comme s'est indiqué ds le lien suivant et ds la documentation officielle\n",
    "https://stackoverflow.com/questions/38105507/python-when-should-i-ever-use-file-read-or-file-readlines\n",
    "\n",
    "# On profite du fait que `f` est un objet itérable\n",
    "\n",
    "with open('test.txt', 'r') as f : \n",
    "    for line in f : \n",
    "        print(line, end = '')"
   ]
  },
  {
   "cell_type": "markdown",
   "metadata": {},
   "source": [
    "### `readlines()`  Vs. `list(f)`"
   ]
  },
  {
   "cell_type": "code",
   "execution_count": null,
   "metadata": {},
   "outputs": [],
   "source": [
    "with open(\"test.txt\", \"r\") as f :\n",
    "\tl = f.readlines() \t# Tu stocke tt le contenu du fichier ds 1str.\n",
    "print(l, type(b), len(b))\n",
    "for item in l :\n",
    "    print(item)\n",
    "\n",
    "# Aussi, comme ds le cadre de `readline()` la façon plus efficiente en terme de gestion de mémoire \n",
    "# comme s'est indiqué ds le lien suivant et ds la documentation officielle\n",
    "https://stackoverflow.com/questions/38105507/python-when-should-i-ever-use-file-read-or-file-readlines\n",
    "\n",
    "with open(\"test.txt\", \"r\") as f :\n",
    "    l = list(f)\n",
    "# On profite du fait que `f` est un objet itérable\n"
   ]
  },
  {
   "cell_type": "markdown",
   "metadata": {},
   "source": [
    "## Option `a`   "
   ]
  },
  {
   "cell_type": "code",
   "execution_count": null,
   "metadata": {},
   "outputs": [],
   "source": [
    "# option a\n",
    "f = open('test.txt','a', encoding = 'utf-8')\n",
    "f.write(\"\\n3è ligne ajouté à la fin\")\n",
    "f.close()"
   ]
  },
  {
   "cell_type": "markdown",
   "metadata": {},
   "source": [
    "  Q : Erreurs à éviter\n",
    "  "
   ]
  },
  {
   "cell_type": "code",
   "execution_count": null,
   "metadata": {},
   "outputs": [],
   "source": [
    "S : Tu dois inclure cette exo qui expliq bien prkoi tu doit eviter d'utiliser import *\n",
    "# Rq : J'ai perdu le lien l'url mais je pense c'est celui de sam et max !\n",
    "import os\n",
    "from os import * # ce n'est pas bon, c pas correct\n",
    "os.open()\n",
    "open()\n",
    "# 2Fonc similaire que tu écrase (dc tu ne peux plus ouvrir un fichier)"
   ]
  }
 ],
 "metadata": {
  "kernelspec": {
   "display_name": "Python 3",
   "language": "python",
   "name": "python3"
  },
  "language_info": {
   "codemirror_mode": {
    "name": "ipython",
    "version": 3
   },
   "file_extension": ".py",
   "mimetype": "text/x-python",
   "name": "python",
   "nbconvert_exporter": "python",
   "pygments_lexer": "ipython3",
   "version": "3.6.10"
  },
  "nbTranslate": {
   "displayLangs": [
    "*"
   ],
   "hotkey": "alt-t",
   "langInMainMenu": true,
   "sourceLang": "en",
   "targetLang": "fr",
   "useGoogleTranslate": true
  },
  "toc": {
   "nav_menu": {},
   "number_sections": true,
   "sideBar": true,
   "skip_h1_title": false,
   "title_cell": "Table of Contents",
   "title_sidebar": "Contents",
   "toc_cell": true,
   "toc_position": {
    "height": "calc(100% - 180px)",
    "left": "10px",
    "top": "150px",
    "width": "165px"
   },
   "toc_section_display": true,
   "toc_window_display": false
  }
 },
 "nbformat": 4,
 "nbformat_minor": 2
}
