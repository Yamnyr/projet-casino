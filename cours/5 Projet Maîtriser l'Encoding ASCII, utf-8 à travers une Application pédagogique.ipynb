{
 "cells": [
  {
   "cell_type": "markdown",
   "metadata": {
    "toc": true
   },
   "source": [
    "<h1>Table of Contents<span class=\"tocSkip\"></span></h1>\n",
    "<div class=\"toc\"><ul class=\"toc-item\"><li><span><a href=\"#Projet\" data-toc-modified-id=\"Projet-1\" data-vivaldi-spatnav-clickable=\"1\"><span class=\"toc-item-num\">1&nbsp;&nbsp;</span>Projet</a></span><ul class=\"toc-item\"><li><span><a href=\"#Maîtriser-l'encoding,-ASCII,-utf-8-à--travers-une-application-pédagogique\" data-toc-modified-id=\"Maîtriser-l'encoding,-ASCII,-utf-8-à--travers-une-application-pédagogique-1.1\" data-vivaldi-spatnav-clickable=\"1\"><span class=\"toc-item-num\">1.1&nbsp;&nbsp;</span>Maîtriser l'encoding, ASCII, utf-8 à  travers une application pédagogique</a></span></li></ul></li></ul></div>"
   ]
  },
  {
   "cell_type": "markdown",
   "metadata": {},
   "source": [
    "\n",
    "\n",
    "\n",
    "\n",
    "\n",
    "# Projet \n",
    "## Maîtriser l'encoding, ASCII, utf-8 à  travers une application pédagogique\n",
    "\n",
    "Votre petit(e) frère(soeur) est à l'école maternelle et a vraiement du mal avec les lettres de l'alphabet. Il ne peut pas se rappeler en particulier de l'ordre des lettres. \n",
    "\n",
    "Vous avez décidé de l'aider en développant une application pédagogique pour qu'il s'entraîne dessus et vous permettre de suivre son avancement (statistique : score, sur quelle lettre a du mal, vitesse de réponse,...). \n",
    "\n",
    "Le principe est le suivant : \n",
    "\n",
    "- L'application retourne une lettre au hasard et votre petit(e) frère(soeur) doit saisir la lettre qui suit.\n",
    "\n",
    "\n",
    "- S'il répond correctement dans un délai de 20 secondes, il gagne un point. Sinon, il perd un point.\n",
    "\n",
    "\n",
    "- L'application retourne à nouveau une nouvelle lettre. Att, si votre frère/soeur se trompe lors d'une réponse, l'application ne doit pas lui retourner à l'étape suivante la même lettre en question.\n",
    "\n",
    "\n",
    "- Le tour des lettres de l'alphabet a été fait, votre frère passe alors au niveau supérieur, là il doit deviner la lettre suivante avec un pas de 2 et dans un délai de 10 secondes.\n",
    "\n",
    "\n",
    "- A la fin de la partie, l'application doit afficher les statistiques. \n",
    " \n",
    "\n",
    "Vous n'avez pas le droit de taper à la main dans le script les lettres de l'alphabet.  \n",
    "\n",
    "Gérer le cas \"*la lettre qui suit z est a*\" sans instaurer une condition if.  \n",
    "\n",
    "Développer l'application en utilsant les fonctions et la gestion des exceptions (pas de num, pas d'espace, pas de mots,...).  \n",
    "\n",
    "Pour simuler le rôle de votre frère, demander à l'ordi de le faire en le dotant d'une \"intelligence\" pour qu'il se trompe le moins.  \n",
    "\n",
    "Toute valeur ajoutée de votre part pour aider votre frère sera la bienvenue !"
   ]
  },
  {
   "cell_type": "code",
   "execution_count": null,
   "metadata": {},
   "outputs": [],
   "source": [
    "\n"
   ]
  },
  {
   "cell_type": "code",
   "execution_count": null,
   "metadata": {},
   "outputs": [],
   "source": [
    "ord(\"a\") \t# 97\n",
    "chr(97) \t# \"a\"\n",
    "ord(\"z\") \t# 122\n",
    "chr(122) \t# \"z\"\n",
    "ord(\"?\") \t# 63\n",
    "chr(63) \t# \"?\"\n",
    "ord(\"A\") \t# 65\n",
    "chr(65) \t# \"A\""
   ]
  },
  {
   "cell_type": "code",
   "execution_count": null,
   "metadata": {},
   "outputs": [],
   "source": [
    "# La fonc de base pr trouver la lettre suivante : \n",
    "# Il s'agit d'utiliser l'hashage (%)\n",
    "def lettre_suivante(lettre) :\n",
    "        lettre_ordre = (ord(lettre) - ord('a')) + 1\n",
    "        lettre_modulo = lettre_ordre % 26\n",
    "    return chr(lettre_modulo + ord('a'))\n",
    "\n",
    "print (lettre_suivante('a'), lettre_suivante('m'),\n",
    "       lettre_suivante('z'))"
   ]
  },
  {
   "cell_type": "code",
   "execution_count": null,
   "metadata": {},
   "outputs": [],
   "source": []
  },
  {
   "cell_type": "code",
   "execution_count": null,
   "metadata": {},
   "outputs": [],
   "source": []
  }
 ],
 "metadata": {
  "kernelspec": {
   "display_name": "Python 3",
   "language": "python",
   "name": "python3"
  },
  "language_info": {
   "codemirror_mode": {
    "name": "ipython",
    "version": 3
   },
   "file_extension": ".py",
   "mimetype": "text/x-python",
   "name": "python",
   "nbconvert_exporter": "python",
   "pygments_lexer": "ipython3",
   "version": "3.7.7"
  },
  "toc": {
   "nav_menu": {},
   "number_sections": true,
   "sideBar": true,
   "skip_h1_title": false,
   "title_cell": "Table of Contents",
   "title_sidebar": "Contents",
   "toc_cell": true,
   "toc_position": {},
   "toc_section_display": true,
   "toc_window_display": true
  }
 },
 "nbformat": 4,
 "nbformat_minor": 2
}
