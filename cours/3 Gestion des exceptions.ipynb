{
 "cells": [
  {
   "cell_type": "markdown",
   "metadata": {
    "toc": true
   },
   "source": [
    "<h1>Table of Contents<span class=\"tocSkip\"></span></h1>\n",
    "<div class=\"toc\"><ul class=\"toc-item\"><li><span><a href=\"#Gestion-des-exceptions\" data-toc-modified-id=\"Gestion-des-exceptions-1\" data-vivaldi-spatnav-clickable=\"1\"><span class=\"toc-item-num\">1&nbsp;&nbsp;</span>Gestion des exceptions</a></span></li></ul></div>"
   ]
  },
  {
   "cell_type": "markdown",
   "metadata": {},
   "source": [
    "# Gestion des exceptions \n",
    "\n",
    "Rule : Ne jamais faire confiance à l'utilisateur !  \n",
    "\n",
    "Another rule : Si vs ne gérez pas les exceptions, le programme se plante !  \n",
    "\n",
    "Jargon : exception = erreur.\n",
    "\n",
    "documentation officielle  \n",
    "https://docs.python.org/3/library/exceptions.html#exception-hierarchy"
   ]
  },
  {
   "cell_type": "code",
   "execution_count": null,
   "metadata": {},
   "outputs": [],
   "source": [
    "# Q : Quelle est le type d'exception levée si je tappe 1chaine de caractère ?\n",
    "# R : Je leve une exception ValueError 'invalid literal for int() with base 10'.\n",
    "# ET, je casse la boucle while (ce n'est pas pratique).\n",
    "\n",
    "while True :\n",
    "    nb_user = int(input('Votre valeur ? : '))\n",
    "    print('Tu as tapé', nb_user)"
   ]
  },
  {
   "cell_type": "code",
   "execution_count": 3,
   "metadata": {},
   "outputs": [
    {
     "name": "stdout",
     "output_type": "stream",
     "text": [
      "Votre valeur ? : gcygdcged\n",
      "La valeur indiquée est incorrect !\n",
      "Votre valeur ? : ggqsdgysdg\n",
      "La valeur indiquée est incorrect !\n",
      "Votre valeur ? : 16\n",
      "Tu as tappé 16\n"
     ]
    }
   ],
   "source": [
    "# `try` `except` = le minimum syndical pr gérer une exception. \n",
    "# Je ne fais pas confiance au User, j'utilse un bloc `try`\n",
    "while True :\n",
    "    nb_user = input('Votre valeur ? : ')\n",
    "    try :\n",
    "        nb_user = int(nb_user)\n",
    "        print('Tu as tappé', nb_user)\n",
    "        break\n",
    "    except :\n",
    "        print(\"La valeur indiquée est incorrect !\")"
   ]
  },
  {
   "cell_type": "code",
   "execution_count": null,
   "metadata": {},
   "outputs": [],
   "source": [
    "# `try` `except` `else` : `else` ce qui ce passe en cas de réussite !\n",
    "\n",
    "while True :\n",
    "    nb_user = input('Votre valeur ? : ')\n",
    "    try :\n",
    "        nb_user = int(nb_user)\n",
    "    except :\n",
    "        print(\"La valeur indiquée est incorrect !\")\n",
    "    else :\n",
    "        print('Tu as tappé', nb_user)\n",
    "        break"
   ]
  },
  {
   "cell_type": "code",
   "execution_count": null,
   "metadata": {},
   "outputs": [],
   "source": [
    "# `try` `except` `else` `finally`\n",
    "# `finally` : qq soit le scénario (erreur ou pas) affiche moi ce qui est ds le `finally` !\n",
    "\n",
    "while True :\n",
    "    nb_user = input('Votre valeur ? : ')\n",
    "    try :\n",
    "        nb_user = int(nb_user)\n",
    "    except :\n",
    "        print(\"La valeur indiquée est incorrect !\")\n",
    "    else :\n",
    "        print('Tu as tappé', nb_user)\n",
    "    finally :\n",
    "        print(\"Fin du programme !\")\n",
    "        break"
   ]
  }
 ],
 "metadata": {
  "kernelspec": {
   "display_name": "Python 3",
   "language": "python",
   "name": "python3"
  },
  "language_info": {
   "codemirror_mode": {
    "name": "ipython",
    "version": 3
   },
   "file_extension": ".py",
   "mimetype": "text/x-python",
   "name": "python",
   "nbconvert_exporter": "python",
   "pygments_lexer": "ipython3",
   "version": "3.6.10"
  },
  "nbTranslate": {
   "displayLangs": [
    "*"
   ],
   "hotkey": "alt-t",
   "langInMainMenu": true,
   "sourceLang": "en",
   "targetLang": "fr",
   "useGoogleTranslate": true
  },
  "toc": {
   "nav_menu": {},
   "number_sections": true,
   "sideBar": true,
   "skip_h1_title": false,
   "title_cell": "Table of Contents",
   "title_sidebar": "Contents",
   "toc_cell": true,
   "toc_position": {},
   "toc_section_display": true,
   "toc_window_display": true
  }
 },
 "nbformat": 4,
 "nbformat_minor": 2
}
